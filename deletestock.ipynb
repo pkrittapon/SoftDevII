{
 "cells": [
  {
   "cell_type": "code",
   "execution_count": 1,
   "metadata": {},
   "outputs": [
    {
     "data": {
      "text/plain": [
       "'IFEC has been added'"
      ]
     },
     "execution_count": 1,
     "metadata": {},
     "output_type": "execute_result"
    }
   ],
   "source": [
    "from data.function import Categories,Stock\n",
    "\n",
    "data = Categories()\n",
    "data.insert_stock(\"IFEC\",\"SET\",\"RESOURC\",\"ENERG\")\n"
   ]
  },
  {
   "cell_type": "code",
   "execution_count": 2,
   "metadata": {},
   "outputs": [
    {
     "data": {
      "text/html": [
       "<div>\n",
       "<style scoped>\n",
       "    .dataframe tbody tr th:only-of-type {\n",
       "        vertical-align: middle;\n",
       "    }\n",
       "\n",
       "    .dataframe tbody tr th {\n",
       "        vertical-align: top;\n",
       "    }\n",
       "\n",
       "    .dataframe thead th {\n",
       "        text-align: right;\n",
       "    }\n",
       "</style>\n",
       "<table border=\"1\" class=\"dataframe\">\n",
       "  <thead>\n",
       "    <tr style=\"text-align: right;\">\n",
       "      <th></th>\n",
       "      <th>year</th>\n",
       "      <th>สินทรัพย์รวม</th>\n",
       "      <th>หนี้สินรวม</th>\n",
       "      <th>ส่วนของผู้ถือหุ้น</th>\n",
       "      <th>มูลค่าหุ้นที่เรียกชำระแล้ว</th>\n",
       "      <th>รายได้รวม</th>\n",
       "      <th>กำไรขาดทุน</th>\n",
       "      <th>กำไรสุทธิ</th>\n",
       "      <th>กำไรต่อหุ้น</th>\n",
       "      <th>ROA%</th>\n",
       "      <th>ROE%</th>\n",
       "      <th>กำไรสุทธิ%</th>\n",
       "    </tr>\n",
       "  </thead>\n",
       "  <tbody>\n",
       "    <tr>\n",
       "      <th>0</th>\n",
       "      <td>2561</td>\n",
       "      <td>187708.55</td>\n",
       "      <td>43439.43</td>\n",
       "      <td>143902.78</td>\n",
       "      <td>14285.7</td>\n",
       "      <td>61918.81</td>\n",
       "      <td>217.12</td>\n",
       "      <td>25170.76</td>\n",
       "      <td>1.76</td>\n",
       "      <td>17.56</td>\n",
       "      <td>18.29</td>\n",
       "      <td>40.74</td>\n",
       "    </tr>\n",
       "    <tr>\n",
       "      <th>1</th>\n",
       "      <td>2562</td>\n",
       "      <td>198381.56</td>\n",
       "      <td>43842.92</td>\n",
       "      <td>153899.11</td>\n",
       "      <td>14285.7</td>\n",
       "      <td>64384.75</td>\n",
       "      <td>182.04</td>\n",
       "      <td>25026.37</td>\n",
       "      <td>1.75</td>\n",
       "      <td>16.73</td>\n",
       "      <td>16.81</td>\n",
       "      <td>38.98</td>\n",
       "    </tr>\n",
       "    <tr>\n",
       "      <th>2</th>\n",
       "      <td>2563</td>\n",
       "      <td>173558.57</td>\n",
       "      <td>30526.90</td>\n",
       "      <td>142235.58</td>\n",
       "      <td>14285.7</td>\n",
       "      <td>33129.95</td>\n",
       "      <td>145.56</td>\n",
       "      <td>4320.68</td>\n",
       "      <td>0.30</td>\n",
       "      <td>3.22</td>\n",
       "      <td>2.92</td>\n",
       "      <td>12.97</td>\n",
       "    </tr>\n",
       "    <tr>\n",
       "      <th>3</th>\n",
       "      <td>2564</td>\n",
       "      <td>195085.77</td>\n",
       "      <td>81664.39</td>\n",
       "      <td>112343.77</td>\n",
       "      <td>14285.7</td>\n",
       "      <td>7715.73</td>\n",
       "      <td>-51.08</td>\n",
       "      <td>-16322.01</td>\n",
       "      <td>-1.14</td>\n",
       "      <td>-9.53</td>\n",
       "      <td>-12.82</td>\n",
       "      <td>-212.19</td>\n",
       "    </tr>\n",
       "    <tr>\n",
       "      <th>4</th>\n",
       "      <td>2565</td>\n",
       "      <td>183812.92</td>\n",
       "      <td>81294.32</td>\n",
       "      <td>101323.97</td>\n",
       "      <td>14285.7</td>\n",
       "      <td>16992.50</td>\n",
       "      <td>258.17</td>\n",
       "      <td>-11087.87</td>\n",
       "      <td>-0.78</td>\n",
       "      <td>-5.77</td>\n",
       "      <td>-10.38</td>\n",
       "      <td>-64.59</td>\n",
       "    </tr>\n",
       "  </tbody>\n",
       "</table>\n",
       "</div>"
      ],
      "text/plain": [
       "   year  สินทรัพย์รวม  หนี้สินรวม  ส่วนของผู้ถือหุ้น  \\\n",
       "0  2561     187708.55    43439.43          143902.78   \n",
       "1  2562     198381.56    43842.92          153899.11   \n",
       "2  2563     173558.57    30526.90          142235.58   \n",
       "3  2564     195085.77    81664.39          112343.77   \n",
       "4  2565     183812.92    81294.32          101323.97   \n",
       "\n",
       "   มูลค่าหุ้นที่เรียกชำระแล้ว  รายได้รวม  กำไรขาดทุน  กำไรสุทธิ  กำไรต่อหุ้น  \\\n",
       "0                     14285.7   61918.81      217.12   25170.76         1.76   \n",
       "1                     14285.7   64384.75      182.04   25026.37         1.75   \n",
       "2                     14285.7   33129.95      145.56    4320.68         0.30   \n",
       "3                     14285.7    7715.73      -51.08  -16322.01        -1.14   \n",
       "4                     14285.7   16992.50      258.17  -11087.87        -0.78   \n",
       "\n",
       "    ROA%   ROE%  กำไรสุทธิ%  \n",
       "0  17.56  18.29       40.74  \n",
       "1  16.73  16.81       38.98  \n",
       "2   3.22   2.92       12.97  \n",
       "3  -9.53 -12.82     -212.19  \n",
       "4  -5.77 -10.38      -64.59  "
      ]
     },
     "execution_count": 2,
     "metadata": {},
     "output_type": "execute_result"
    }
   ],
   "source": [
    "from data.function import Categories,Stock\n",
    "import pandas\n",
    "aot = Stock(\"AOT\")\n",
    "aot.financial_statement()"
   ]
  }
 ],
 "metadata": {
  "kernelspec": {
   "display_name": "venv",
   "language": "python",
   "name": "python3"
  },
  "language_info": {
   "codemirror_mode": {
    "name": "ipython",
    "version": 3
   },
   "file_extension": ".py",
   "mimetype": "text/x-python",
   "name": "python",
   "nbconvert_exporter": "python",
   "pygments_lexer": "ipython3",
   "version": "3.10.7 (v3.10.7:6cc6b13308, Sep  5 2022, 14:02:52) [Clang 13.0.0 (clang-1300.0.29.30)]"
  },
  "orig_nbformat": 4,
  "vscode": {
   "interpreter": {
    "hash": "83c6f0656a9afcf2e3e7b748bc110ba80e8b43dc186a6c04e664844d3a8499a4"
   }
  }
 },
 "nbformat": 4,
 "nbformat_minor": 2
}
