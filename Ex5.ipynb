{
 "cells": [
  {
   "cell_type": "code",
   "execution_count": 51,
   "metadata": {},
   "outputs": [],
   "source": [
    "a = [0,-1,2,-3,1,-2]\n",
    "\n",
    "negative = []\n",
    "zero = []\n",
    "positive = []\n",
    "\n",
    "for i in a:\n",
    "    if i < 0:\n",
    "        negative.append(i)\n",
    "    elif i > 0:\n",
    "        positive.append(i)\n",
    "    else:\n",
    "        zero.append(i)\n",
    "\n",
    "if len(zero) != 0:\n",
    "    for i in negative:\n",
    "        for j in positive:\n",
    "            if i+j == 0:\n",
    "                pass\n",
    "                # print(i,0,j)\n",
    "\n",
    "neg_pair = []\n",
    "pos_pair = []\n",
    "\n",
    "if len(negative) > 1 and len(positive) > 1:\n",
    "    for i in negative:\n",
    "        for j in negative:\n",
    "            if i<j:\n",
    "                neg_pair.append((i,j))\n",
    "\n",
    "    for i in neg_pair:\n",
    "        for j in positive:\n",
    "            if i[0]+i[1]+j == 0:\n",
    "                pass\n",
    "                # print(i[0],i[1],j)   \n",
    "\n",
    "    for i in positive:\n",
    "        for j in positive:\n",
    "            if i<j:\n",
    "                pos_pair.append((i,j))\n",
    "\n",
    "    for i in pos_pair:\n",
    "        for j in negative:\n",
    "            if i[0]+i[1]+j == 0:\n",
    "                pass\n",
    "                # print(i[0],i[1],j)\n",
    "                \n"
   ]
  }
 ],
 "metadata": {
  "kernelspec": {
   "display_name": "Python 3.11.1 64-bit",
   "language": "python",
   "name": "python3"
  },
  "language_info": {
   "codemirror_mode": {
    "name": "ipython",
    "version": 3
   },
   "file_extension": ".py",
   "mimetype": "text/x-python",
   "name": "python",
   "nbconvert_exporter": "python",
   "pygments_lexer": "ipython3",
   "version": "3.11.1"
  },
  "orig_nbformat": 4,
  "vscode": {
   "interpreter": {
    "hash": "5cca4f5dcd056dd0d48c27316ac808b84dc2b453ae0f5d26f73c9fb229b574dc"
   }
  }
 },
 "nbformat": 4,
 "nbformat_minor": 2
}
