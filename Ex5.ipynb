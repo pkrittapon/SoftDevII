{
 "cells": [
  {
   "cell_type": "code",
   "execution_count": 2,
   "metadata": {},
   "outputs": [
    {
     "data": {
      "text/plain": [
       "[(-3, 1, 2), (-2, 0, 2), (-1, 0, 1)]"
      ]
     },
     "execution_count": 2,
     "metadata": {},
     "output_type": "execute_result"
    }
   ],
   "source": [
    "# import random\n",
    "# a = list({random.randint(-1000, 1000) for _ in range(2000)})\n",
    "def sum_zero(a):\n",
    "    n = len(a)\n",
    "    triplets = []\n",
    "\n",
    "    for i in range(n):\n",
    "        for j in range(0, n-i-1):\n",
    "            if a[j] > a[j+1]:\n",
    "                a[j], a[j+1] = a[j+1], a[j]\n",
    "\n",
    "    for i in range(n - 2):\n",
    "        low = i + 1 \n",
    "        high = n - 1\n",
    "        while low < high:\n",
    "            if a[low] + a[high] + a[i] < 0:\n",
    "                low += 1\n",
    "            elif a[low] + a[high] + a[i] > 0:\n",
    "                high -= 1\n",
    "            else:\n",
    "                triplets.append((a[i], a[low], a[high]))\n",
    "                low += 1\n",
    "                high -= 1\n",
    "    return triplets\n",
    "\n",
    "a = [0,-1,2,-3,1,-2]  \n",
    "sum_zero(a)"
   ]
  },
  {
   "cell_type": "code",
   "execution_count": null,
   "metadata": {},
   "outputs": [],
   "source": []
  }
 ],
 "metadata": {
  "kernelspec": {
   "display_name": "Python 3.8.8 ('base')",
   "language": "python",
   "name": "python3"
  },
  "language_info": {
   "codemirror_mode": {
    "name": "ipython",
    "version": 3
   },
   "file_extension": ".py",
   "mimetype": "text/x-python",
   "name": "python",
   "nbconvert_exporter": "python",
   "pygments_lexer": "ipython3",
   "version": "3.8.8"
  },
  "orig_nbformat": 4,
  "vscode": {
   "interpreter": {
    "hash": "94739d9bda5c298837637c4c5c5209b978556cceb0d5bae3a69fa56560406532"
   }
  }
 },
 "nbformat": 4,
 "nbformat_minor": 2
}
