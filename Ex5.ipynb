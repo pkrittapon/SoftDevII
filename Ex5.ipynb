{
 "cells": [
  {
   "cell_type": "code",
   "execution_count": null,
   "metadata": {},
   "outputs": [],
   "source": [
    "# import random\n",
    "# a = list({random.randint(-1000, 1000) for _ in range(2000)})\n",
    "\n",
    "a = [0,-1,2,-3,1,-2]\n",
    "n = len(a)\n",
    "triplets = []\n",
    "\n",
    "for i in range(n):\n",
    "    for j in range(0, n-i-1):\n",
    "        if a[j] > a[j+1]:\n",
    "            a[j], a[j+1] = a[j+1], a[j]\n",
    "\n",
    "for i in range(n - 2):\n",
    "    low = i + 1 \n",
    "    high = n - 1\n",
    "    while low < high:\n",
    "        if a[low] + a[high] + a[i] < 0:\n",
    "            low += 1\n",
    "        elif a[low] + a[high] + a[i] > 0:\n",
    "            high -= 1\n",
    "        else:\n",
    "            triplets.append((a[i], a[low], a[high]))\n",
    "            low += 1\n",
    "            high -= 1\n",
    "            \n",
    "print(triplets)"
   ]
  },
  {
   "cell_type": "code",
   "execution_count": null,
   "metadata": {},
   "outputs": [],
   "source": []
  }
 ],
 "metadata": {
  "kernelspec": {
   "display_name": "Python 3.11.1 64-bit",
   "language": "python",
   "name": "python3"
  },
  "language_info": {
   "codemirror_mode": {
    "name": "ipython",
    "version": 3
   },
   "file_extension": ".py",
   "mimetype": "text/x-python",
   "name": "python",
   "nbconvert_exporter": "python",
   "pygments_lexer": "ipython3",
   "version": "3.11.1"
  },
  "orig_nbformat": 4,
  "vscode": {
   "interpreter": {
    "hash": "5cca4f5dcd056dd0d48c27316ac808b84dc2b453ae0f5d26f73c9fb229b574dc"
   }
  }
 },
 "nbformat": 4,
 "nbformat_minor": 2
}
