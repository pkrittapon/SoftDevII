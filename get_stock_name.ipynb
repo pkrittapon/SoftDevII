{
 "cells": [
  {
   "cell_type": "code",
   "execution_count": 2,
   "metadata": {},
   "outputs": [],
   "source": [
    "import requests\n",
    "from bs4 import BeautifulSoup\n",
    "import sqlite3\n",
    "\"d-block d-md-none fs-24px\"\n",
    "\"quote-info-left-name d-none d-md-flex align-items-center\"\n",
    "def get_name(symbol):\n",
    "    latest = f'https://www.set.or.th/en/market/product/stock/quote/{symbol}/price'\n",
    "    response = requests.get(latest)\n",
    "    data = BeautifulSoup(response.text,\"html.parser\")\n",
    "    text = data.find(attrs={\"class\": \"d-block d-md-none fs-24px\"})\n",
    "    name = text.text.replace('\\n','').lstrip().rstrip()\n",
    "    return name\n",
    "\n",
    "def insert_name(symbol,name):\n",
    "    \"\"\"insert new stock to database\"\"\"\n",
    "    conn = sqlite3.connect('stock.db',timeout=10)\n",
    "    cursor = conn.cursor()\n",
    "    cursor.execute(f\"UPDATE stock SET about = '{name}' WHERE symbol = '{symbol}'\")\n",
    "    conn.commit()\n",
    "    conn.close()"
   ]
  },
  {
   "cell_type": "code",
   "execution_count": 7,
   "metadata": {},
   "outputs": [
    {
     "name": "stdout",
     "output_type": "stream",
     "text": [
      "DTAC\n",
      "JWD\n",
      "LPF\n",
      "PG\n"
     ]
    }
   ],
   "source": [
    "from data.function import Categories\n",
    "'DTAC'\n",
    "all_stock = Categories(\"SET\").get_all_stock()\n",
    "cont = 0\n",
    "for i in all_stock:\n",
    "    # if i == 'JWD':\n",
    "    #     cont = 1\n",
    "    # elif cont == 1:\n",
    "    try:\n",
    "        name = get_name(i)\n",
    "        insert_name(i,name)\n",
    "    except:\n",
    "         print(i)"
   ]
  }
 ],
 "metadata": {
  "kernelspec": {
   "display_name": "venv",
   "language": "python",
   "name": "python3"
  },
  "language_info": {
   "codemirror_mode": {
    "name": "ipython",
    "version": 3
   },
   "file_extension": ".py",
   "mimetype": "text/x-python",
   "name": "python",
   "nbconvert_exporter": "python",
   "pygments_lexer": "ipython3",
   "version": "3.10.7"
  },
  "orig_nbformat": 4
 },
 "nbformat": 4,
 "nbformat_minor": 2
}
