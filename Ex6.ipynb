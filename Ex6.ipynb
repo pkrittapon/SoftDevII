{
 "cells": [
  {
   "cell_type": "code",
   "execution_count": 143,
   "metadata": {},
   "outputs": [
    {
     "ename": "ValueError",
     "evalue": "invalid literal for int() with base 10: ''",
     "output_type": "error",
     "traceback": [
      "\u001b[1;31m---------------------------------------------------------------------------\u001b[0m",
      "\u001b[1;31mValueError\u001b[0m                                Traceback (most recent call last)",
      "\u001b[1;32m<ipython-input-143-217bcd44c516>\u001b[0m in \u001b[0;36m<module>\u001b[1;34m\u001b[0m\n\u001b[1;32m----> 1\u001b[1;33m \u001b[0mtable_number\u001b[0m \u001b[1;33m=\u001b[0m \u001b[0mint\u001b[0m\u001b[1;33m(\u001b[0m\u001b[0minput\u001b[0m\u001b[1;33m(\u001b[0m\u001b[1;34m\"Enter number of table : \"\u001b[0m\u001b[1;33m)\u001b[0m\u001b[1;33m)\u001b[0m\u001b[1;33m\u001b[0m\u001b[1;33m\u001b[0m\u001b[0m\n\u001b[0m\u001b[0;32m      2\u001b[0m \u001b[1;32mfor\u001b[0m \u001b[0mi\u001b[0m \u001b[1;32min\u001b[0m \u001b[0mrange\u001b[0m\u001b[1;33m(\u001b[0m\u001b[0mtable_number\u001b[0m\u001b[1;33m)\u001b[0m\u001b[1;33m:\u001b[0m\u001b[1;33m\u001b[0m\u001b[1;33m\u001b[0m\u001b[0m\n\u001b[0;32m      3\u001b[0m     \u001b[0mtable_size\u001b[0m \u001b[1;33m=\u001b[0m \u001b[0mint\u001b[0m\u001b[1;33m(\u001b[0m\u001b[0minput\u001b[0m\u001b[1;33m(\u001b[0m\u001b[1;34m\"Enter size of table : \"\u001b[0m\u001b[1;33m)\u001b[0m\u001b[1;33m)\u001b[0m\u001b[1;33m\u001b[0m\u001b[1;33m\u001b[0m\u001b[0m\n\u001b[0;32m      4\u001b[0m     \u001b[0mtable\u001b[0m \u001b[1;33m=\u001b[0m \u001b[1;33m[\u001b[0m\u001b[1;33m]\u001b[0m\u001b[1;33m\u001b[0m\u001b[1;33m\u001b[0m\u001b[0m\n\u001b[0;32m      5\u001b[0m     \u001b[0mcatch_ten\u001b[0m \u001b[1;33m=\u001b[0m \u001b[1;36m0\u001b[0m\u001b[1;33m\u001b[0m\u001b[1;33m\u001b[0m\u001b[0m\n",
      "\u001b[1;31mValueError\u001b[0m: invalid literal for int() with base 10: ''"
     ]
    }
   ],
   "source": [
    "#Do not work\n",
    "#################################################\n",
    "table_number = int(input(\"Enter number of table : \"))\n",
    "for i in range(table_number):\n",
    "    table_size = int(input(\"Enter size of table : \"))\n",
    "    table = []\n",
    "    catch_ten = 0\n",
    "    for j in range(table_size):\n",
    "        table.append([int(n) for n in input(\"Enter number in row \"+str(j+1)+\" : \").split()])\n",
    "    for num in range(2):\n",
    "        if num == 1:\n",
    "            table = [[tmp_row[tmp_i] for tmp_row in table] for tmp_i in range(table_size)]#transpose table\n",
    "        for row in table:\n",
    "            if sum(row) < 10:\n",
    "                continue\n",
    "            if sum(row[table_size-2:]) == 10:\n",
    "                catch_ten += 1\n",
    "            for index in range(len(row)-1):\n",
    "                for width in range(index+1,table_size-index+1):\n",
    "                    print(row[index:width+1])\n",
    "                    if sum(row[index:width+1]) == 10:\n",
    "                        catch_ten += 1\n",
    "    print(catch_ten)\n",
    "###################################################"
   ]
  },
  {
   "cell_type": "code",
   "execution_count": 197,
   "metadata": {},
   "outputs": [],
   "source": [
    "def sum_part_row(row_list,start_index,stop_index):\n",
    "    result = 0\n",
    "    # print(row_list[start_index:length],end=' ')\n",
    "    for i in range(start_index,stop_index):\n",
    "        result += row_list[i]\n",
    "    # print(result)\n",
    "    return result"
   ]
  },
  {
   "cell_type": "code",
   "execution_count": 207,
   "metadata": {},
   "outputs": [
    {
     "name": "stdout",
     "output_type": "stream",
     "text": [
      "4\n",
      "10\n",
      "7\n",
      "0\n"
     ]
    }
   ],
   "source": [
    "file = open(\"Ex6.txt\", \"r\")\n",
    "\n",
    "contents = file.readlines()\n",
    "file.close()\n",
    "\n",
    "table_number = int(contents[0])\n",
    "line_read = 1\n",
    "for i in range(table_number):\n",
    "    table_size = int(contents[line_read])\n",
    "    # print(\"table_size\",table_size)\n",
    "    line_read += 1\n",
    "    table = []\n",
    "    catch_ten = 0\n",
    "    for j in range(table_size):\n",
    "        table.append([int(n)for n in contents[line_read].split()])\n",
    "        line_read += 1\n",
    "    # print(table)\n",
    "    for num in range(2):\n",
    "        if num == 1:\n",
    "            table = [[tmp_row[tmp_i] for tmp_row in table] for tmp_i in range(table_size)]#transpose table\n",
    "        for row in table:# access in each row\n",
    "            if sum_part_row(row,0,table_size) < 10:\n",
    "                continue\n",
    "            for index in range(len(row)-1):# first index for sum\n",
    "                for width in range(index+1,table_size+1):# last index for sum and more than 1 size of table\n",
    "                    if sum_part_row(row,index,width) == 10 :\n",
    "                        catch_ten += 1\n",
    "    print(catch_ten)\n",
    "##werse case = (n+(n-1)+(n-2)+...+4+3+2)*2n for n is size of squre matrix"
   ]
  },
  {
   "cell_type": "code",
   "execution_count": 150,
   "metadata": {},
   "outputs": [
    {
     "name": "stdout",
     "output_type": "stream",
     "text": [
      "[[1, 2, 3, 4], [1, 2, 3, 4], [1, 2, 3, 4], [1, 2, 3, 4]]\n",
      "[[1, 1, 1, 1], [2, 2, 2, 2], [3, 3, 3, 3], [4, 4, 4, 4]]\n"
     ]
    }
   ],
   "source": [
    "x = [[1,2,3,4],[1,2,3,4],[1,2,3,4],[1,2,3,4]]\n",
    "print(x)\n",
    "x = [[tmp_row[tmp_i] for tmp_row in x] for tmp_i in range(len(x))]\n",
    "print(x)"
   ]
  }
 ],
 "metadata": {
  "kernelspec": {
   "display_name": "Python 3.8.8 ('base')",
   "language": "python",
   "name": "python3"
  },
  "language_info": {
   "codemirror_mode": {
    "name": "ipython",
    "version": 3
   },
   "file_extension": ".py",
   "mimetype": "text/x-python",
   "name": "python",
   "nbconvert_exporter": "python",
   "pygments_lexer": "ipython3",
   "version": "3.8.8"
  },
  "orig_nbformat": 4,
  "vscode": {
   "interpreter": {
    "hash": "94739d9bda5c298837637c4c5c5209b978556cceb0d5bae3a69fa56560406532"
   }
  }
 },
 "nbformat": 4,
 "nbformat_minor": 2
}
