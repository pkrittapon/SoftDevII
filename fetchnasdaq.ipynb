{
 "cells": [
  {
   "cell_type": "code",
   "execution_count": 2,
   "metadata": {},
   "outputs": [],
   "source": [
    "from data.function import Categories,Stock\n",
    "cat = Categories()\n",
    "\n",
    "all_sector = cat.get_all_sector()\n",
    "all_industry = cat.get_all_industry()"
   ]
  },
  {
   "cell_type": "code",
   "execution_count": 3,
   "metadata": {},
   "outputs": [],
   "source": [
    "import sqlite3\n",
    "from data.function import Categories\n",
    "\n",
    "def insert_nasdaq(stock,name,sector_id,industry_id):\n",
    "    conn = sqlite3.connect('stock.db',timeout=10)\n",
    "    cursor = conn.cursor()\n",
    "    cursor.execute(f\"INSERT INTO stock_nasdaq VALUES (null,'{stock.upper()}','{name}',2,{industry_id},{sector_id})\")\n",
    "    conn.commit()\n",
    "    conn.close()\n",
    "\n",
    "def insert_sector(sector,industry_id):\n",
    "    conn = sqlite3.connect('stock.db',timeout=10)\n",
    "    cursor = conn.cursor()\n",
    "    cursor.execute(f\"INSERT INTO sector VALUES (null,'{sector}',null,{industry_id})\")\n",
    "    conn.commit()\n",
    "    conn.close()\n",
    "\n",
    "def insert_industry(industry):\n",
    "    conn = sqlite3.connect('stock.db',timeout=10)\n",
    "    cursor = conn.cursor()\n",
    "    cursor.execute(f\"INSERT INTO industry VALUES (null,'{industry}',null)\")\n",
    "    conn.commit()\n",
    "    conn.close()\n",
    "\n",
    "def insert(data):\n",
    "    \"\"\"symbol,name,industry,sector\"\"\"\n",
    "    for i in data:\n",
    "        cat = Categories()\n",
    "        all_sector = cat.get_all_sector()\n",
    "        all_industry = cat.get_all_industry()\n",
    "        if i[2] not in all_industry:\n",
    "            insert_industry(i[2])\n",
    "        if i[3] not in all_sector:\n",
    "            insert_sector(i[3],cat.get_industry_id(i[2]))\n",
    "        insert_nasdaq(i[0],i[1],cat.get_sector_id(i[3]),cat.get_industry_id(i[2]))"
   ]
  },
  {
   "cell_type": "code",
   "execution_count": 4,
   "metadata": {},
   "outputs": [],
   "source": [
    "\n",
    "\n"
   ]
  }
 ],
 "metadata": {
  "kernelspec": {
   "display_name": "venv",
   "language": "python",
   "name": "python3"
  },
  "language_info": {
   "codemirror_mode": {
    "name": "ipython",
    "version": 3
   },
   "file_extension": ".py",
   "mimetype": "text/x-python",
   "name": "python",
   "nbconvert_exporter": "python",
   "pygments_lexer": "ipython3",
   "version": "3.10.7"
  },
  "orig_nbformat": 4,
  "vscode": {
   "interpreter": {
    "hash": "83c6f0656a9afcf2e3e7b748bc110ba80e8b43dc186a6c04e664844d3a8499a4"
   }
  }
 },
 "nbformat": 4,
 "nbformat_minor": 2
}
