{
 "cells": [
  {
   "cell_type": "code",
   "execution_count": 1,
   "metadata": {},
   "outputs": [],
   "source": [
    "import pandas as pd"
   ]
  },
  {
   "cell_type": "code",
   "execution_count": 2,
   "metadata": {},
   "outputs": [
    {
     "name": "stdout",
     "output_type": "stream",
     "text": [
      "     Symbol                                               Name  \\\n",
      "0         A             Agilent Technologies Inc. Common Stock   \n",
      "1        AA                    Alcoa Corporation Common Stock    \n",
      "2       AAC  Ares Acquisition Corporation Class A Ordinary ...   \n",
      "3      AACG   ATA Creativity Global American Depositary Shares   \n",
      "4      AACI            Armada Acquisition Corp. I Common Stock   \n",
      "...     ...                                                ...   \n",
      "7052   ZVSA             ZyVersa Therapeutics Inc. Common Stock   \n",
      "7053    ZWS  Zurn Elkay Water Solutions Corporation Common ...   \n",
      "7054   ZYME                        Zymeworks Inc. Common Stock   \n",
      "7055   ZYNE          Zynerba Pharmaceuticals Inc. Common Stock   \n",
      "7056   ZYXI                            Zynex Inc. Common Stock   \n",
      "\n",
      "                      Sector  \\\n",
      "0                Industrials   \n",
      "1                Industrials   \n",
      "2                    Finance   \n",
      "3     Consumer Discretionary   \n",
      "4                Industrials   \n",
      "...                      ...   \n",
      "7052             Health Care   \n",
      "7053               Utilities   \n",
      "7054             Health Care   \n",
      "7055             Health Care   \n",
      "7056             Health Care   \n",
      "\n",
      "                                               Industry  \n",
      "0                                   Electrical Products  \n",
      "1                                    Metal Fabrications  \n",
      "2                                     Business Services  \n",
      "3                        Service to the Health Industry  \n",
      "4                       Consumer Electronics/Appliances  \n",
      "...                                                 ...  \n",
      "7052         Biotechnology: Pharmaceutical Preparations  \n",
      "7053                             Environmental Services  \n",
      "7054  Biotechnology: Biological Products (No Diagnos...  \n",
      "7055         Biotechnology: Pharmaceutical Preparations  \n",
      "7056                              Other Pharmaceuticals  \n",
      "\n",
      "[7057 rows x 4 columns]\n"
     ]
    }
   ],
   "source": [
    "data = pd.read_csv(\"nasdaq_screener.csv\")\n",
    "data.drop(columns=[\"Last Sale\",\"Country\",\"Net Change\",\"% Change\",\"Market Cap\",\"IPO Year\",\"Volume\"],inplace=True)\n",
    "data.dropna(inplace=True)\n",
    "data.reset_index(drop=True, inplace=True)\n",
    "row_lists = data.apply(lambda row: row.tolist(), axis=1).tolist()\n",
    "print(data)"
   ]
  },
  {
   "cell_type": "code",
   "execution_count": 3,
   "metadata": {},
   "outputs": [],
   "source": [
    "import sqlite3\n",
    "from data.function import Categories\n",
    "\n",
    "def insert_nasdaq(stock,name,sector_id,industry_id):\n",
    "    conn = sqlite3.connect('stock.db',timeout=10)\n",
    "    cursor = conn.cursor()\n",
    "    cursor.execute(f'INSERT INTO stock_nasdaq VALUES (null,\"{stock.upper()}\",\"{name}\",2,{industry_id},{sector_id})')\n",
    "    conn.commit()\n",
    "    conn.close()\n",
    "\n",
    "def insert_sector(sector,industry_id):\n",
    "    conn = sqlite3.connect('stock.db',timeout=10)\n",
    "    cursor = conn.cursor()\n",
    "    cursor.execute(f'INSERT INTO sector VALUES (null,\"{sector}\",null,{industry_id})')\n",
    "    conn.commit()\n",
    "    conn.close()\n",
    "\n",
    "def insert_industry(industry):\n",
    "    conn = sqlite3.connect('stock.db',timeout=10)\n",
    "    cursor = conn.cursor()\n",
    "    cursor.execute(f'INSERT INTO industry VALUES (null,\"{industry}\",null)')\n",
    "    conn.commit()\n",
    "    conn.close()\n",
    "\n",
    "def insert(data):\n",
    "    \"\"\"symbol,name,industry,sector\"\"\"\n",
    "    for i in data:\n",
    "        cat = Categories()\n",
    "        all_sector = cat.get_all_sector()\n",
    "        all_industry = cat.get_all_industry()\n",
    "        if i[2] not in all_industry:\n",
    "            insert_industry(i[2])\n",
    "        if i[3] not in all_sector:\n",
    "            insert_sector(i[3],cat.get_industry_id(i[2]))\n",
    "        insert_nasdaq(i[0],i[1],cat.get_sector_id(i[3]),cat.get_industry_id(i[2]))"
   ]
  },
  {
   "cell_type": "code",
   "execution_count": 4,
   "metadata": {},
   "outputs": [],
   "source": [
    "from data.function import Stock,Categories\n",
    "import yfinance as yf\n",
    "import datetime\n",
    "import sqlite3\n",
    "from sqlite3 import connect\n",
    "def get_stock_and_crypto_data(name):\n",
    "        # start = datetime.datetime.strptime(start, '%Y-%m-%d %H:%M:%S')# convert string to datetime obj\n",
    "        # data = yf.download(tickers=name) #get data\n",
    "        data = yf.download(tickers=name) #get data\n",
    "        data = data.loc[data[\"Volume\"] != 0 ].drop([\"Adj Close\"],axis = 1)# ไม่เอาค่า volume = 0\n",
    "        data[\"Date\"] = data.index.strftime('%Y-%m-%d %X') # convert pandas timestamp to string \n",
    "        return data.values.tolist() #return value in type list\n",
    "def get_stock_id(symbol):\n",
    "    \"\"\"return id of stock\"\"\"       \n",
    "    conn = sqlite3.connect('stock.db',timeout=10)\n",
    "    cursor = conn.cursor()\n",
    "    cursor.execute(f\"SELECT stock_id FROM stock_nasdaq WHERE symbol = '{symbol}'\")\n",
    "    data = cursor.fetchall()\n",
    "    conn.close()\n",
    "    return data[0][0]\n",
    "\n",
    "def insert_stock(id,data):\n",
    "        conn = connect('stock.db',timeout=10)#connect to database\n",
    "        cursor = conn.cursor()\n",
    "        for i in data:#run sql script(insert)\n",
    "            cursor.execute(f\"INSERT INTO 'stock_nasdaq_price_hour' VALUES (null,{id},'{i[5]}',{i[0]},{i[1]},{i[2]},{i[3]},{i[4]})\")\n",
    "        conn.commit()#commit change to db\n",
    "        conn.close()#disconnect"
   ]
  },
  {
   "cell_type": "code",
   "execution_count": 5,
   "metadata": {},
   "outputs": [
    {
     "name": "stdout",
     "output_type": "stream",
     "text": [
      "[*********************100%***********************]  1 of 1 completed\n"
     ]
    }
   ],
   "source": [
    "for i in  [\"MANU\"]:\n",
    "    id = get_stock_id(i)\n",
    "    data = get_stock_and_crypto_data(i)\n",
    "    insert_stock(id,data)"
   ]
  }
 ],
 "metadata": {
  "kernelspec": {
   "display_name": "Python 3",
   "language": "python",
   "name": "python3"
  },
  "language_info": {
   "codemirror_mode": {
    "name": "ipython",
    "version": 3
   },
   "file_extension": ".py",
   "mimetype": "text/x-python",
   "name": "python",
   "nbconvert_exporter": "python",
   "pygments_lexer": "ipython3",
   "version": "3.9.13"
  },
  "orig_nbformat": 4,
  "vscode": {
   "interpreter": {
    "hash": "cd05a3f72561a4cd3675d1e6dd09f9984a3a823058cba838b94e660222799a0f"
   }
  }
 },
 "nbformat": 4,
 "nbformat_minor": 2
}
