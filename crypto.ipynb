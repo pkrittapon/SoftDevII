{
 "cells": [
  {
   "cell_type": "code",
   "execution_count": null,
   "metadata": {},
   "outputs": [],
   "source": [
    "from selenium import webdriver\n",
    "from selenium.webdriver.common.by import By\n",
    "import time\n",
    "import pandas as pd\n",
    "\n",
    "url = \"https://www.coingecko.com/en/all-cryptocurrencies\"\n",
    "driver = webdriver.Chrome('./chromedriver') \n",
    "driver.get(url) \n",
    "time.sleep(5) \n",
    "\n",
    "clicknext = driver.find_element(By.XPATH,'/html/body/div[4]/div[4]/div[2]/div/a')\n",
    "clicknext.click()\n",
    "time.sleep(8) \n",
    "\n",
    "clicknext = driver.find_element(By.XPATH,'/html/body/div[4]/div[4]/div[2]/div/a')\n",
    "clicknext.click()\n",
    "time.sleep(8) \n",
    "clicknext = driver.find_element(By.XPATH,'/html/body/div[4]/div[4]/div[2]/div/a')\n",
    "clicknext.click()\n",
    "time.sleep(8) \n",
    "clicknext = driver.find_element(By.XPATH,'/html/body/div[4]/div[4]/div[2]/div/a')\n",
    "clicknext.click()\n",
    "time.sleep(8) \n",
    "\n",
    "html = driver.page_source\n",
    "data = pd.read_html(html)\n",
    "driver.close()\n"
   ]
  },
  {
   "cell_type": "code",
   "execution_count": null,
   "metadata": {},
   "outputs": [],
   "source": [
    "data_symbol = data[0][[\"Coin\",\"Symbol\"]]\n",
    "row_lists = data_symbol.apply(lambda row: row.tolist(), axis=1).tolist()\n",
    "for i in row_lists:\n",
    "    word = i[0].split()\n",
    "    i[0] = ' '.join(word[:-1])\n",
    "print(row_lists)"
   ]
  },
  {
   "cell_type": "code",
   "execution_count": null,
   "metadata": {},
   "outputs": [],
   "source": [
    "import sqlite3\n",
    "from data.function import Categories\n",
    "\n",
    "def insert_crypto(symbol,name):\n",
    "    conn = sqlite3.connect('stock.db',timeout=10)\n",
    "    cursor = conn.cursor()\n",
    "    cursor.execute(f'INSERT INTO crypto VALUES (null,\"{symbol}\",\"{name}\")')\n",
    "    conn.commit()\n",
    "    conn.close()\n",
    "def get_all_stock():\n",
    "        \"\"\"return list of symbol of stock\"\"\"\n",
    "        conn = sqlite3.connect('stock.db',timeout=10)\n",
    "        cursor = conn.cursor()\n",
    "        cursor.execute(f\"SELECT symbol FROM crypto\")\n",
    "        data = cursor.fetchall()\n",
    "        conn.close()\n",
    "        return [i[0] for i in data]\n"
   ]
  },
  {
   "cell_type": "code",
   "execution_count": 13,
   "metadata": {},
   "outputs": [],
   "source": [
    "from data.function import Stock,Categories\n",
    "import yfinance as yf\n",
    "import datetime\n",
    "from sqlite3 import connect\n",
    "def get_stock_and_crypto_data(name):\n",
    "        # start = datetime.datetime.strptime(start, '%Y-%m-%d %H:%M:%S')# convert string to datetime obj\n",
    "        data = yf.download(tickers=name) #get data\n",
    "        data = data.loc[data[\"Volume\"] != 0 ].drop([\"Adj Close\"],axis = 1)# ไม่เอาค่า volume = 0\n",
    "        data[\"Date\"] = data.index.strftime('%Y-%m-%d %X') # convert pandas timestamp to string \n",
    "        return data.values.tolist() #return value in type list\n",
    "def get_stock_id(symbol):\n",
    "    \"\"\"return id of stock\"\"\"       \n",
    "    conn = sqlite3.connect('stock.db',timeout=10)\n",
    "    cursor = conn.cursor()\n",
    "    cursor.execute(f\"SELECT crypto_id FROM crypto WHERE symbol = '{symbol}'\")\n",
    "    data = cursor.fetchall()\n",
    "    conn.close()\n",
    "    return data[0][0]\n",
    "\n",
    "def insert_stock(id,data):\n",
    "        conn = connect('stock.db',timeout=10)#connect to database\n",
    "        cursor = conn.cursor()\n",
    "        for i in data:#run sql script(insert)\n",
    "            cursor.execute(f\"INSERT INTO 'crypto_price_day' VALUES (null,{id},'{i[5]}',{i[0]},{i[1]},{i[2]},{i[3]},{i[4]})\")\n",
    "        conn.commit()#commit change to db\n",
    "        conn.close()#disconnect"
   ]
  },
  {
   "cell_type": "code",
   "execution_count": 15,
   "metadata": {},
   "outputs": [
    {
     "name": "stdout",
     "output_type": "stream",
     "text": [
      "[*********************100%***********************]  1 of 1 completed\n",
      "[*********************100%***********************]  1 of 1 completed\n",
      "[*********************100%***********************]  1 of 1 completed\n",
      "[*********************100%***********************]  1 of 1 completed\n",
      "[*********************100%***********************]  1 of 1 completed\n",
      "[*********************100%***********************]  1 of 1 completed\n",
      "[*********************100%***********************]  1 of 1 completed\n",
      "[*********************100%***********************]  1 of 1 completed\n",
      "[*********************100%***********************]  1 of 1 completed\n",
      "[*********************100%***********************]  1 of 1 completed\n",
      "[*********************100%***********************]  1 of 1 completed\n",
      "[*********************100%***********************]  1 of 1 completed\n"
     ]
    }
   ],
   "source": [
    "for i in ['BTC','ETH','USDT','BNB','USDC','XRP','ADA','MATIC','BUSD','OKB','DOGE','KUB']:\n",
    "    id = get_stock_id(i)\n",
    "    data = get_stock_and_crypto_data(i+\"-USD\")\n",
    "    insert_stock(id,data)"
   ]
  }
 ],
 "metadata": {
  "kernelspec": {
   "display_name": "Python 3",
   "language": "python",
   "name": "python3"
  },
  "language_info": {
   "codemirror_mode": {
    "name": "ipython",
    "version": 3
   },
   "file_extension": ".py",
   "mimetype": "text/x-python",
   "name": "python",
   "nbconvert_exporter": "python",
   "pygments_lexer": "ipython3",
   "version": "3.9.13"
  },
  "orig_nbformat": 4,
  "vscode": {
   "interpreter": {
    "hash": "cd05a3f72561a4cd3675d1e6dd09f9984a3a823058cba838b94e660222799a0f"
   }
  }
 },
 "nbformat": 4,
 "nbformat_minor": 2
}
