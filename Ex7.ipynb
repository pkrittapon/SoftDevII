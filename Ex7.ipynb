{
 "cells": [
  {
   "cell_type": "code",
   "execution_count": 30,
   "metadata": {},
   "outputs": [
    {
     "name": "stdout",
     "output_type": "stream",
     "text": [
      "50 150 90 140 40 30 70 20 \n",
      "\n",
      "50 150 20 70 90 40 130 30 \n",
      "\n",
      "70 130 20 90 150 50 200 40 \n",
      "\n",
      "70 130 20 90 50 150 200 140 \n",
      "\n",
      "130 70 20 150 50 40 90 30 \n",
      "\n",
      "130 70 20 150 90 50 140 40 \n",
      "\n"
     ]
    }
   ],
   "source": [
    "A = set()\n",
    "c1 = 0\n",
    "c2 = 0\n",
    "file = open(\"Ex7.txt\", \"r\")\n",
    "lines = file.readlines()\n",
    "for i in range(len(lines)):\n",
    "    if i == 0:\n",
    "        c1 = int(lines[i].split(\" \")[1])\n",
    "        c2 = int(lines[i].split(\" \")[2])\n",
    "    else:\n",
    "        A.add(int(lines[i]))\n",
    "\n",
    "a = sorted(list(A)) \n",
    "x = {}\n",
    "x12 = []\n",
    "x68 = []\n",
    "x1268 = []\n",
    "result = []\n",
    "\n",
    "for i in range(0, len(a)-1):\n",
    "    for j in range(i+1, len(a)):\n",
    "        if a[j] + a[i] == c1:\n",
    "            x12.append([a[i],a[j]])\n",
    "            x12.append([a[j],a[i]])\n",
    "        if c2 < 0:\n",
    "            if a[i] - a[j] == c2:\n",
    "                x68.append([a[j],a[i]])\n",
    "        if c2 >= 0:\n",
    "            if a[j] - a[i] == c2:\n",
    "                x68.append([a[i],a[j]])\n",
    "\n",
    "for i in x12:\n",
    "    for j in x68:\n",
    "        if not (i[0] in j or i[1] in j):\n",
    "            x1268.append([i[0],i[1],j[0],j[1]])\n",
    "\n",
    "for i in x1268:\n",
    "    x.update({\n",
    "        1:i[0],\n",
    "        2:i[1],\n",
    "        6:i[2],\n",
    "        8:i[3]\n",
    "    })\n",
    "    remain = sorted(list((set(a)-set(i))))\n",
    "    for j in range(0, len(remain)-1):\n",
    "        for k in range(j+1, len(remain)):\n",
    "              if remain[k] - remain[j] == x[1]:\n",
    "                x.update({\n",
    "                    3:remain[j],\n",
    "                    4:remain[k]\n",
    "                })\n",
    "                remain2 = sorted(list((set(remain)-set([remain[k],remain[j]]))))\n",
    "                for l in range(0, len(remain2)-1):\n",
    "                    for m in range(l+1, len(remain2)):\n",
    "                        if remain2[m] - remain2[l] == x[6]:\n",
    "                            x.update({\n",
    "                                5:remain2[l],\n",
    "                                7:remain2[m]\n",
    "                            })\n",
    "                            result.append(sorted(x.items()))\n",
    "for i in result:\n",
    "    for j in i:\n",
    "        print(j[1], end=\" \")\n",
    "    print(\"\\n\")\n"
   ]
  }
 ],
 "metadata": {
  "kernelspec": {
   "display_name": "Python 3.11.1 64-bit",
   "language": "python",
   "name": "python3"
  },
  "language_info": {
   "codemirror_mode": {
    "name": "ipython",
    "version": 3
   },
   "file_extension": ".py",
   "mimetype": "text/x-python",
   "name": "python",
   "nbconvert_exporter": "python",
   "pygments_lexer": "ipython3",
   "version": "3.11.1"
  },
  "orig_nbformat": 4,
  "vscode": {
   "interpreter": {
    "hash": "5cca4f5dcd056dd0d48c27316ac808b84dc2b453ae0f5d26f73c9fb229b574dc"
   }
  }
 },
 "nbformat": 4,
 "nbformat_minor": 2
}
