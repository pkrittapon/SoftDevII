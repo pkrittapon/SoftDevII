{
 "cells": [
  {
   "cell_type": "code",
   "execution_count": 8,
   "metadata": {},
   "outputs": [
    {
     "name": "stdout",
     "output_type": "stream",
     "text": [
      "['AAVE', 'ADA', 'AGIX', 'ALGO', 'APE', 'APT', 'AR', 'ATOM', 'AVAX', 'AXS', 'BCH', 'BGB', 'BIT', 'BNB', 'BSV', 'BTC', 'BTT', 'BUSD', 'CAKE', 'CDAI', 'CETH', 'CHZ', 'CRO', 'CRV', 'CSPR', 'CUSDC', 'CVX', 'DAI', 'DASH', 'DOGE', 'DOT', 'EDGT', 'EGLD', 'EOS', 'ETC', 'ETH', 'FIL', 'FLOW', 'FRAX', 'FTM', 'FXS', 'GMX', 'GRT', 'GT', 'GUSD', 'HBAR', 'HT', 'ICP', 'IMX', 'KAVA', 'KCS', 'KLAY', 'LDO', 'LEO', 'LINK', 'LTC', 'LUNC', 'MANA', 'MATIC', 'MINA', 'MIOTA', 'MKR', 'NEAR', 'NEO', 'OKB', 'OKT', 'OP', 'OSMO', 'PAXG', 'QNT', 'RPL', 'SAND', 'SHIB', 'SNX', 'SOL', 'STETH', 'STX', 'THETA', 'TKX', 'TON', 'TRX', 'TUSD', 'TWT', 'UNI', 'USDC', 'USDD', 'USDP', 'USDT', 'VET', 'WBT', 'WBTC', 'XAUT', 'XDC', 'XEC', 'XLM', 'XMR', 'XRD', 'XRP', 'XTZ', 'ZEC']\n",
      "100\n"
     ]
    }
   ],
   "source": [
    "from data.function import Categories\n",
    "item = Categories('CRYPTO')\n",
    "all_top = item.get_top_stock()\n",
    "print(all_top)\n",
    "print(len(all_top))"
   ]
  },
  {
   "cell_type": "code",
   "execution_count": 4,
   "metadata": {},
   "outputs": [
    {
     "name": "stdout",
     "output_type": "stream",
     "text": [
      "-----------------100%------------------------\n",
      "-----------------100%------------------------\n",
      "-----------------100%------------------------\n",
      "-----------------100%------------------------\n",
      "-----------------100%------------------------\n",
      "-----------------100%------------------------\n",
      "-----------------100%------------------------\n",
      "-----------------100%------------------------\n",
      "-----------------100%------------------------\n",
      "-----------------100%------------------------\n",
      "-----------------100%------------------------\n",
      "-----------------100%------------------------\n"
     ]
    }
   ],
   "source": [
    "from data.function import News\n",
    "index = \"SET\"\n",
    "stocks = \"SCG\"\n",
    "\n",
    "news = News(index)\n",
    "news.fetch_set_news(stocks)\n"
   ]
  },
  {
   "cell_type": "code",
   "execution_count": 1,
   "metadata": {},
   "outputs": [
    {
     "name": "stdout",
     "output_type": "stream",
     "text": [
      "----------------100%----------------\n",
      "----------------100%----------------\n",
      "----------------100%----------------\n",
      "----------------100%----------------\n",
      "----------------100%----------------\n",
      "----------------100%----------------\n",
      "----------------100%----------------\n",
      "----------------100%----------------\n",
      "----------------100%----------------\n",
      "----------------100%----------------\n"
     ]
    }
   ],
   "source": [
    "from data.function import Stock,Location\n",
    "index = \"SET\"\n",
    "stocks = \"SCG\"\n",
    "\n",
    "stock = Location(index)\n",
    "# stock.get_all_stock_news(\"KBANK\")\n",
    "stock.fetch_location(stocks)"
   ]
  },
  {
   "cell_type": "code",
   "execution_count": 2,
   "metadata": {},
   "outputs": [
    {
     "data": {
      "text/plain": [
       "[('2021-12-15 18:14:44', 'Gujarat', 22.3850051, 71.745261),\n",
       " ('2021-12-15 18:14:44', 'India', 22.3511148, 78.6677428),\n",
       " ('2021-12-14 10:08:23', 'Thailand', 14.8971921, 100.83273),\n",
       " ('2021-12-13 15:28:43', 'Thailand', 14.8971921, 100.83273),\n",
       " ('2021-10-29 11:10:49', 'Thailand', 14.8971921, 100.83273),\n",
       " ('2021-08-24 16:11:09', 'Thailand', 14.8971921, 100.83273),\n",
       " ('2021-08-24 16:11:09', 'Krungsri', 13.7628377, 100.504281),\n",
       " ('2021-07-15 15:34:56', 'Thailand', 14.8971921, 100.83273),\n",
       " ('2020-12-14 12:53:04', 'Thailand', 14.8971921, 100.83273),\n",
       " ('2020-12-04 11:22:26', 'Italy', 42.6384261, 12.674297)]"
      ]
     },
     "execution_count": 2,
     "metadata": {},
     "output_type": "execute_result"
    }
   ],
   "source": [
    "s = Stock('SCG','SET')\n",
    "s.get_stock_location()\n"
   ]
  },
  {
   "cell_type": "code",
   "execution_count": 1,
   "metadata": {},
   "outputs": [],
   "source": [
    "from data.function import News\n",
    "\n",
    "new = News('SET')\n",
    "tran = new.combine_translate(3085)\n",
    "\n"
   ]
  },
  {
   "cell_type": "code",
   "execution_count": 2,
   "metadata": {},
   "outputs": [
    {
     "name": "stdout",
     "output_type": "stream",
     "text": [
      "Open a portfolio of millionaires in Thai stocks. Sarat Ratanawadi won the 2020 championship for the second time. Ranking results in Money and Banking Journal In the December 2020 issue, it appears that the 2020 Thai stock millionaire still belongs to Mr. Sarath Ratanavadi, director, vice chairman. and Chief Executive Officer of Gulf Energy Development Public Company Limited, GULF, which is the champion for the second year in a row, holding shares with a total value of 115,290 million baht, a decrease of 5,670 million baht or 4.69 % which Mr. Sarath Be the number 1 shareholder of GULF with 35.44% stake Go back to the year 2019 where Mr. Sarat Has stepped in to become a millionaire champion of Thai stocks for the first year At that time, the value of GULF shares soared to 160 baht as of September 30, 2019. The par price was 5 baht, an increase of 83.75 baht or 109.84% from the IPO price of 45.00 baht per share in 2018, but came in This year, GULF stocks were inevitably affected by COVID-19. That caused the Thai stock market index to fall heavily, with the GULF stock price falling to 30.50 baht, down 4.69% as of September 30, 2020. The par price was adjusted to 1 baht. Mr. Sarath's wealth this year therefore decreased by more than 5,600 million baht The second richest stock is Dr. Prasert Prasarttong-Osoth or Doctor Sert, the owner of the Bangkok Hospital Group - Nonthavej. and Bangkok Airways by holding shares with a total value of 50,079.31 million baht, which shares held by Mo Sert both Bangkok Airways Public Company Limited, BA, Bangkok Airways, Bangkok Dusit Medical Services Public Company Limited, BDMS, Nonthavej Hospital Public Company Limited, NTV, and Samui Airport Leasehold Property Fund SPF are all eligible. severely affected by COVID-19 especially Bangkok Airways, which had to be disrupted due to lockdown measures Hospital stocks also slumped as foreign patients shrank. As a result, this year, Dr. Sert Ruay decreased by 16,031.33 million baht or 24.25%. The 3rd stock millionaire this year still belongs to Mr. Niti. good fortune big investor Heir of the Osotsapa Kingdom By holding shares worth 48,181.64 million baht, a decrease of 431.68 million baht or 0.89% for Mr. Niti's investment portfolio this year It consists of a total of 12 stocks, with 10 continuing investments from last year and 2 new stocks in the portfolio. The fourth richest stock is Mr. Vonnarat Tangkaravakoon, Chairman of the Board of Directors of TOA Group. The eldest heir of the Xi Kingdom, TOA moved to 4th place from 6th place last year. by holding shares in Stark Corporation Public Company Limited, STARK and TOA Paint Thailand Public Company Limited, TOA total value of 41,213.15 million baht, rich, increasing 157.85 million baht or 0.38% The fifth richest stockholder is Mr. Charoen Sirivadhanabhakdi. After stepping into the list of Thai millionaires, number 23 last year The total value of shares held was 38,178.70 million baht, an increase of 27,848.13 million baht or 269.57% from the introduction of Asset World Corp Plc. AWC, a holding company that holds shares in the real estate business group of TCC. Group, both hotel business / service group and commercial real estate business group Listed on the Stock Exchange of Thailand on October 2019 In addition, he also holds shares in Thai Group Holdings Public Company Limited, SEG, which is a holding company of the Sirivadhanabhakdi Group. Invest in life insurance, insurance and leasing businesses as well. The 6th and 7th stock millionaires are 2 millionaire stock owners. Muang Thai Capital Public Company Limited, MTC formerly known as Muang Thai Leasing by Mrs. Daonapha Petampai rose to rank 6 from rank 7 last year. with shares worth 35,460 million baht, a decrease of 5,580 million baht or 13.60%, while Mr. Chuchart Petampai rose from 8th place to 7th place with a total share value of 35,277.91 million baht, a decrease of 5,563.30 million baht or 13.62% The 8th stock millionaire is Mr. Somphote Ahunai, the owner of Pure Energy Public Company Limited EA, energy business. Distributor of biodiesel oil and sell solar electricity Dropped from 5th place last year. The total value of shares held was 34,412.43 million baht, a decrease of 7,671.82 million baht or 18.23%. The ninth richest stockholder is Khunying Wanna Sirivadhanabhakdi. Move up like a magnate Charoen by rising from number 23 last year with a total value of 28,728.70 million baht in shares, an increase of 18,398.13 million baht or 178.09% The top 10 stock-rich is Mr. Harald Link, chairman of B.Grimm Group, the largest German conglomerate in Thailand. Which is the owner of energy, power plants, medical equipment, air conditioning, transportation and real estate. by moving up from rank 11 last year From holding shares worth 26,798.95 million baht, a decrease of 632.63 million baht or 2.31%. The Thai economy has been affected by the spread of the COVID-19 virus. Since the beginning of the year 2020, the export and tourism sector has severely collapsed. As a result, the Thai stock market continued to decline. The stock market index as of September 30, 2020, which is the date used to calculate the wealth value of Thai stock millionaires in 2020, dropped to 1,237.04 from 2019 at the level of 1,637.22, down to 400.18 points, representing 32.35%, making the value The wealth of Thai stock millionaires in 2020 dropped to 140,796 million baht or 7.09%. However, after various negative factors have eased, it is expected that the global economy has bottomed out from the impact of COVID-19 and has begun to recover after easing lockdown measures in many countries. Including the results of the COVID-19 vaccine trial. That works well and will be used later this year. causing buying pressure from foreign investors into Asian stock markets Including the Thai stock market, where the index rose through 1,400 points in the past November. If the Thai stock index continues to rise without any new negative factors to hold back Wealth in the list of millionaires in Thai stocks next year will definitely return again. By InfoQuest News Agency 8 Dec. '20  \n",
      "['Thailand']\n",
      "[]\n"
     ]
    }
   ],
   "source": [
    "from data.function import Location\n",
    "lo = Location('SET')\n",
    "print(tran)\n",
    "print(lo.location(tran))\n",
    "print(lo.location_upgrade(tran))"
   ]
  },
  {
   "cell_type": "code",
   "execution_count": null,
   "metadata": {},
   "outputs": [],
   "source": [
    "import requests\n",
    "\n",
    "response = requests.get(\"https://www.kaohoon.com/tag/PTT\")\n",
    "\n",
    "print(response.text)"
   ]
  },
  {
   "cell_type": "code",
   "execution_count": 81,
   "metadata": {},
   "outputs": [
    {
     "name": "stdout",
     "output_type": "stream",
     "text": [
      "yay\n"
     ]
    }
   ],
   "source": [
    "text = \"QasdasREEd\"\n",
    "remove_list = ['\\\\','/','$',\"'\",'\"',',']\n",
    "\n",
    "\n",
    "if all(char not in remove_list for char in text) and not any(char.isdigit() for char in text):\n",
    "    print('yay')\n",
    "# if any(char.isdigit() for char in text):\n",
    "#     print(\"The string contains a number.\")\n",
    "# else:\n",
    "#     print(\"The string does not contain a number.\")\n"
   ]
  }
 ],
 "metadata": {
  "kernelspec": {
   "display_name": "venv",
   "language": "python",
   "name": "python3"
  },
  "language_info": {
   "codemirror_mode": {
    "name": "ipython",
    "version": 3
   },
   "file_extension": ".py",
   "mimetype": "text/x-python",
   "name": "python",
   "nbconvert_exporter": "python",
   "pygments_lexer": "ipython3",
   "version": "3.10.7"
  },
  "orig_nbformat": 4
 },
 "nbformat": 4,
 "nbformat_minor": 2
}
