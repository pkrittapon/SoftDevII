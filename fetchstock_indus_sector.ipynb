{
 "cells": [
  {
   "cell_type": "code",
   "execution_count": 1,
   "metadata": {},
   "outputs": [
    {
     "name": "stderr",
     "output_type": "stream",
     "text": [
      "/var/folders/l4/g4063s6d1zjcwtjdwk0lyb9m0000gn/T/ipykernel_6131/2506537723.py:21: DeprecationWarning: executable_path has been deprecated, please pass in a Service object\n",
      "  driver = webdriver.Chrome('./chromedriver')\n"
     ]
    },
    {
     "name": "stdout",
     "output_type": "stream",
     "text": [
      "{'AGRI': ['EE', 'GFPT', 'LEE', 'MAX', 'NER', 'PPPM', 'STA', 'TEGH', 'TFM', 'TRUBB', 'TWPC', 'UPOIC', 'UVAN', 'VPO'], 'FOOD': ['AAI', 'APURE', 'ASIAN', 'BR', 'BRR', 'BTG', 'CBG', 'CFRESH', 'CH', 'CHOTI', 'CM', 'CPF', 'CPI', 'F&D', 'GLOCON', 'HTC', 'ICHI', 'ITC', 'JDF', 'KBS', 'KSL', 'KTIS', 'LST', 'M', 'MALEE', 'MINT', 'NRF', 'NSL', 'OISHI', 'OSP', 'PB', 'PLUS', 'PM', 'PRG', 'RBF', 'SAPPE', 'SAUCE', 'SFP', 'SNNP', 'SNP', 'SORKON', 'SSC', 'SSF', 'SST', 'SUN', 'TC', 'TFG', 'TFMAMA', 'TIPCO', 'TKN', 'TU', 'TVO', 'W', 'ZEN']}\n",
      "{'FASHION': ['AFC', 'AURA', 'BTNC', 'CPH', 'CPL', 'NC', 'PAF', 'PDJ', 'PG', 'SABINA', 'SAWANG', 'SUC', 'TNL', 'TR', 'TTI', 'TTT', 'UPF', 'WACOAL', 'WFX'], 'HOME': ['AJA', 'DTCI', 'FANCY', 'FTI', 'KYE', 'L&E', 'MODERN', 'OGC', 'ROCK', 'SIAM', 'TCMC', 'TSR'], 'PERSON': ['APCO', 'BIZ', 'DDD', 'JCT', 'KISS', 'NV', 'OCC', 'S&J', 'STGT', 'STHAI', 'TNR', 'TOG']}\n",
      "{'BANK': ['BAY', 'BBL', 'CIMBT', 'KBANK', 'KKP', 'KTB', 'LHFG', 'SCB', 'TCAP', 'TISCO', 'TTB'], 'FIN': ['AEONTS', 'AMANAH', 'ASAP', 'ASK', 'ASP', 'BAM', 'BYD', 'CGH', 'CHAYO', 'ECL', 'FNS', 'FSS', 'GBX', 'GL', 'HENG', 'IFS', 'JMT', 'KCAR', 'KGI', 'KTC', 'MFC', 'MICRO', 'ML', 'MST', 'MTC', 'NCAP', 'PL', 'S11', 'SAK', 'SAWAD', 'SCAP', 'SGC', 'SM', 'TH', 'THANI', 'TIDLOR', 'TK', 'TNITY', 'UOBKH', 'XPG'], 'INSUR': ['AYUD', 'BKI', 'BLA', 'BUI', 'CHARAN', 'INSURE', 'KWI', 'MTI', 'NKI', 'NSI', 'SMK', 'TGH', 'THRE', 'THREL', 'TIPH', 'TLI', 'TQM', 'TSI', 'TVI']}\n",
      "{'AUTO': ['3K-BAT', 'ACG', 'AH', 'CWT', 'EASON', 'GYT', 'HFT', 'IHL', 'INGRS', 'IRC', 'PCSGH', 'POLY', 'SAT', 'SPG', 'STANLY', 'TKT', 'TNPC', 'TRU', 'TSC'], 'IMM': ['ALLA', 'ASEFA', 'CPT', 'CRANE', 'CTW', 'FMT', 'HTECH', 'KKC', 'PK', 'SNC', 'STARK', 'TCJ', 'TPCS', 'VARO'], 'PAPER': ['UTP'], 'PETRO': ['BCT', 'CMAN', 'GC', 'GGC', 'GIFT', 'IVL', 'NFC', 'PATO', 'PMTA', 'PTTGC', 'SUTHA', 'TCCC', 'TPA', 'UAC', 'UP'], 'PKG': ['AJ', 'ALUCON', 'BGC', 'CSC', 'NEP', 'PTL', 'SCGP', 'SFLEX', 'SITHAI', 'SLP', 'SMPC', 'SPACK', 'TCOAT', 'TFI', 'THIP', 'TMD', 'TOPP', 'TPAC', 'TPBI', 'TPP'], 'STEEL': ['2S', 'AMC', 'BSBM', 'CEN', 'CITY', 'CSP', 'GJS', 'GSTEEL', 'INOX', 'LHK', 'MCS', 'MILL', 'PAP', 'PERM', 'SAM', 'SMIT', 'SSSC', 'TGPRO', 'THE', 'TMT', 'TSTH', 'TWP', 'TYCN']}\n",
      "{'CONMAT': ['CCP', 'COTTO', 'DCC', 'DCON', 'DRT', 'EPG', 'GEL', 'PPP', 'Q-CON', 'SCC', 'SCCC', 'SCP', 'SKN', 'STECH', 'TASCO', 'TOA', 'TPIPL', 'UMI', 'VNG', 'WIIK'], 'PROP': ['A', 'AMATA', 'AMATAV', 'ANAN', 'AP', 'APEX', 'AQ', 'ASW', 'AWC', 'BLAND', 'BRI', 'BROCK', 'CGD', 'CI', 'CMC', 'CPN', 'ESTAR', 'EVER', 'FPT', 'GLAND', 'J', 'JCK', 'KC', 'LALIN', 'LH', 'LPN', 'MBK', 'MJD', 'MK', 'NCH', 'NNCL', 'NOBLE', 'NUSA', 'NVD', 'ORI', 'PACE', 'PEACE', 'PF', 'PIN', 'PLAT', 'POLAR', 'PRECHA', 'PRIN', 'PSH', 'QH', 'RABBIT', 'RICHY', 'RML', 'ROJNA', 'S', 'SA', 'SAMCO', 'SC', 'SENA', 'SIRI', 'SPALI', 'UV', 'WHA', 'WIN'], 'PF&REIT': ['AIMCG', 'AIMIRT', 'ALLY', 'AMATAR', 'B-WORK', 'BAREIT', 'BKKCP', 'BOFFICE', 'CPNCG', 'CPNREIT', 'CPTGF', 'CTARAF', 'DREIT', 'ERWPF', 'FTREIT', 'FUTUREPF', 'GAHREIT', 'GROREIT', 'GVREIT', 'HPF', 'HYDROGEN', 'IMPACT', 'INETREIT', 'KPNPF', 'KTBSTMR', 'LHHOTEL', 'LHPF', 'LHSC', 'LPF', 'LUXF', 'M-II', 'M-PAT', 'M-STOR', 'MIPF', 'MIT', 'MJLF', 'MNIT', 'MNIT2', 'MNRF', 'POPF', 'PPF', 'PROSPECT', 'QHHR', 'QHOP', 'QHPF', 'SHREIT', 'SIRIP', 'SPRIME', 'SRIPANWA', 'SSPF', 'SSTRT', 'TIF1', 'TLHPF', 'TNPF', 'TPRIME', 'TTLPF', 'TU-PF', 'URBNPF', 'WHABT', 'WHAIR', 'WHART'], 'CONS': ['APCS', 'BJCHI', 'BKD', 'CIVIL', 'CK', 'CNT', 'EMC', 'ITD', 'NWR', 'PLE', 'PREB', 'PYLON', 'RT', 'SEAFCO', 'SQ', 'SRICHA', 'STEC', 'STI', 'STPI', 'SYNTEC', 'TEAMG', 'TEKA', 'TPOLY', 'TRC', 'TRITN', 'TTCL', 'UNIQ', 'WGE']}\n",
      "{'ENERG': ['7UP', 'ACC', 'ACE', 'AGE', 'AI', 'AIE', 'AKR', 'BAFS', 'BANPU', 'BBGI', 'BCP', 'BCPG', 'BGRIM', 'BPP', 'BRRGIF', 'CKP', 'CV', 'DEMCO', 'EA', 'EASTW', 'EGATIF', 'EGCO', 'EP', 'ESSO', 'ETC', 'GPSC', 'GREEN', 'GULF', 'GUNKUL', 'IFEC', 'IRPC', 'JR', 'KBSPIF', 'LANNA', 'MDX', 'NOVA', 'OR', 'PCC', 'PRIME', 'PTG', 'PTT', 'PTTEP', 'QTC', 'RATCH', 'RPC', 'SCG', 'SCI', 'SCN', 'SGP', 'SKE', 'SOLAR', 'SPCG', 'SPRC', 'SSP', 'SUPER', 'SUPEREIF', 'SUSCO', 'TAE', 'TCC', 'TGE', 'TOP', 'TPIPP', 'TSE', 'TTW', 'UBE', 'WHAUP', 'WP'], 'MINE': ['THL']}\n",
      "{'COMM': ['B52', 'BEAUTY', 'BIG', 'BJC', 'COM7', 'CPALL', 'CPW', 'CRC', 'CSS', 'DOHOME', 'FN', 'FTE', 'GLOBAL', 'HMPRO', 'ICC', 'ILM', 'IT', 'KAMART', 'LOXLEY', 'MAKRO', 'MC', 'MEGA', 'MIDA', 'MOSHI', 'RS', 'RSP', 'SABUY', 'SCM', 'SINGER', 'SPC', 'SPI', 'SVT'], 'HELTH': ['AHC', 'BCH', 'BDMS', 'BH', 'CHG', 'CMR', 'EKH', 'KDH', 'LPH', 'M-CHAI', 'NEW', 'NTV', 'PR9', 'PRINC', 'RAM', 'RJH', 'RPH', 'SKR', 'THG', 'VIBHA', 'VIH', 'WPH'], 'MEDIA': ['AMARIN', 'AQUA', 'AS', 'BEC', 'FE', 'GPI', 'GRAMMY', 'JKN', 'MACO', 'MAJOR', 'MATCH', 'MATI', 'MCOT', 'MONO', 'MPIC', 'NATION', 'ONEE', 'PLANB', 'POST', 'PRAKIT', 'PTECH', 'SE-ED', 'TKS', 'VGI', 'WAVE', 'WORK'], 'PROF': ['BWG', 'GENCO', 'PRO', 'SISB', 'SO'], 'TOURISM': ['ASIA', 'BEYOND', 'CENTEL', 'CSR', 'DUSIT', 'ERW', 'GRAND', 'LRH', 'MANRIN', 'OHTL', 'ROH', 'SHANG', 'SHR', 'VRANDA'], 'TRANS': ['AAV', 'AOT', 'ASIMAR', 'B', 'BA', 'BEM', 'BIOTEC', 'BTS', 'BTSGIF', 'DMT', 'III', 'JWD', 'KEX', 'KIAT', 'KWC', 'MENA', 'NOK', 'NYT', 'PORT', 'PRM', 'PSL', 'RCL', 'TFFIF', 'THAI', 'TSTE', 'TTA', 'WICE']}\n",
      "{'ETRON': ['CCET', 'DELTA', 'HANA', 'KCE', 'METCO', 'NEX', 'SMT', 'SVI', 'TEAM'], 'ICT': ['ADVANC', 'AIT', 'ALT', 'AMR', 'BLISS', 'DIF', 'DTAC', 'DTCENT', 'FORTH', 'HUMAN', 'ILINK', 'INET', 'INSET', 'INTUCH', 'ITEL', 'JAS', 'JASIF', 'JMART', 'JTS', 'MFEC', 'MSC', 'PT', 'SAMART', 'SAMTEL', 'SDC', 'SIS', 'SKY', 'SVOA', 'SYMC', 'SYNEX', 'THCOM', 'TKC', 'TRUE', 'TWZ']}\n"
     ]
    }
   ],
   "source": [
    "import requests\n",
    "from bs4 import BeautifulSoup\n",
    "from selenium import webdriver\n",
    "from selenium.webdriver.common.keys import Keys\n",
    "import time\n",
    "agro = {}\n",
    "consump = {}\n",
    "fincial = {}\n",
    "indus = {}\n",
    "propcon = {}\n",
    "resourc = {}\n",
    "service = {}\n",
    "tech = {}\n",
    "industrial = [agro,consump,fincial,indus,propcon,resourc,service,tech]\n",
    "industrial_name = ['agro','consump','fincial','indus','propcon','resourc','service','tech']\n",
    "\n",
    "baseurl = 'https://www.set.or.th/th/market/index/set/'\n",
    "\n",
    "for i in range(len(industrial)):\n",
    "    url = baseurl + industrial_name[i]\n",
    "    driver = webdriver.Chrome('./chromedriver') \n",
    "    driver.get(url) \n",
    "\n",
    "    time.sleep(2) \n",
    "\n",
    "    html = driver.page_source\n",
    "\n",
    "    soup = BeautifulSoup(html, \"html.parser\")\n",
    "    all_divs = soup.find_all('div', {'class' : 'd-flex align-items-center'})\n",
    "\n",
    "\n",
    "    last_setter = ''\n",
    "\n",
    "    for job_profile in all_divs :\n",
    "        strip_line = job_profile.text.strip()\n",
    "        if len(job_profile.text)-len(strip_line) == 41:\n",
    "            last_setter = strip_line.split(' ')[0]\n",
    "            industrial[i][last_setter] = []\n",
    "        elif len(job_profile.text)-len(strip_line) == 19 or len(job_profile.text)-len(strip_line) == 20:\n",
    "            industrial[i][last_setter].append(strip_line[0:8].replace('\\n','').strip())\n",
    "    print(industrial[i])\n",
    "    driver.close() "
   ]
  },
  {
   "cell_type": "code",
   "execution_count": 2,
   "metadata": {},
   "outputs": [
    {
     "name": "stderr",
     "output_type": "stream",
     "text": [
      "/var/folders/l4/g4063s6d1zjcwtjdwk0lyb9m0000gn/T/ipykernel_6131/2224512047.py:5: DeprecationWarning: executable_path has been deprecated, please pass in a Service object\n",
      "  driver = webdriver.Chrome('./chromedriver')\n"
     ]
    },
    {
     "name": "stdout",
     "output_type": "stream",
     "text": [
      "['AAV', 'ACE', 'ADVANC', 'AMATA', 'AOT', 'AP', 'AWC', 'BAM', 'BANPU', 'BBL', 'BCH', 'BCP', 'BCPG', 'BDMS', 'BEC', 'BEM', 'BGRIM', 'BH', 'BLA', 'BTS', 'BYD', 'CBG', 'CENTEL', 'CHG', 'CK', 'CKP', 'COM7', 'CPALL', 'CPF', 'CPN', 'CRC', 'DELTA', 'DOHOME', 'DTAC', 'EA', 'EGCO', 'EPG', 'ESSO', 'FORTH', 'GLOBAL', 'GPSC', 'GULF', 'GUNKUL', 'HANA', 'HMPRO', 'INTUCH', 'IRPC', 'IVL', 'JAS', 'JMART', 'JMT', 'KBANK', 'KCE', 'KEX', 'KKP', 'KTB', 'KTC', 'LH', 'MEGA', 'MINT', 'MTC', 'NEX', 'ONEE', 'OR', 'ORI', 'OSP', 'PLANB', 'PSL', 'PTG', 'PTT', 'PTTEP', 'PTTGC', 'QH', 'RATCH', 'RBF', 'RCL', 'SABUY', 'SAWAD', 'SCB', 'SCC', 'SCGP', 'SINGER', 'SPALI', 'SPRC', 'STA', 'STARK', 'STGT', 'TCAP', 'THANI', 'THG', 'TIDLOR', 'TIPH', 'TISCO', 'TOP', 'TQM', 'TRUE', 'TTB', 'TU', 'VGI', 'WHA']\n",
      "100\n"
     ]
    }
   ],
   "source": [
    "#url of the page we want to scrape\n",
    "url = 'https://www.set.or.th/th/market/index/set100/overview'\n",
    "\n",
    "# initiating the webdriver. Parameter includes the path of the webdriver.\n",
    "driver = webdriver.Chrome('./chromedriver') \n",
    "driver.get(url) \n",
    "\n",
    "# this is just to ensure that the page is loaded\n",
    "time.sleep(5) \n",
    "\n",
    "html = driver.page_source\n",
    "# this renders the JS code and stores all\n",
    "# of the information in static HTML code.\n",
    "\n",
    "# Now, we could simply apply bs4 to html variable\n",
    "soup = BeautifulSoup(html, \"html.parser\")\n",
    "all_divs = soup.find_all('div', {'class' : 'symbol pt-1'})\n",
    "\n",
    "symbol_list = []\n",
    "for job_profile in all_divs :\n",
    "    symbol_list.append(job_profile.text.strip())\n",
    "print(symbol_list)\n",
    "print(len(symbol_list))\n",
    "driver.close() # closing the webdriver"
   ]
  },
  {
   "cell_type": "code",
   "execution_count": 19,
   "metadata": {},
   "outputs": [],
   "source": [
    "def insert_stock(sym,index,indus,sec):\n",
    "    from sqlite3 import connect\n",
    "    conn = connect('stock.db',timeout=10)#connect to database\n",
    "    cursor = conn.cursor()\n",
    "    cursor.execute(f\"INSERT INTO stock (symbol, index_id ,industry_id, sector_id) VALUES ('{sym}',{get_index_id(index)},{get_industry_id(indus)},{get_sector_id(sec)})\")\n",
    "    conn.commit()#commit change to db\n",
    "    conn.close()#disconnect\n",
    "\n",
    "def insert_index(sym):\n",
    "    from sqlite3 import connect\n",
    "    conn = connect('stock.db',timeout=10)#connect to database\n",
    "    cursor = conn.cursor()\n",
    "    cursor.execute(f\"INSERT INTO [index] (symbol) VALUES ('{sym}')\")\n",
    "    conn.commit()#commit change to db\n",
    "    conn.close()#disconnect\n",
    "\n",
    "def insert_industry(sym):\n",
    "    from sqlite3 import connect\n",
    "    conn = connect('stock.db',timeout=10)#connect to database\n",
    "    cursor = conn.cursor()\n",
    "    cursor.execute(f\"INSERT INTO industry (symbol) VALUES ('{sym}')\")\n",
    "    conn.commit()#commit change to db\n",
    "    conn.close()#disconnect\n",
    "\n",
    "def insert_sector(sym,indus):\n",
    "    from sqlite3 import connect\n",
    "    conn = connect('stock.db',timeout=10)#connect to database\n",
    "    cursor = conn.cursor()\n",
    "    cursor.execute(f\"INSERT INTO sector (symbol,industry_id) VALUES ('{sym}',{get_industry_id(indus)})\")\n",
    "    conn.commit()#commit change to db\n",
    "    conn.close()#disconnect\n",
    "\n",
    "def get_stock_id(symbol):\n",
    "    from sqlite3 import connect\n",
    "    conn = connect('stock.db',timeout=10)#connect to database\n",
    "    cursor = conn.cursor()\n",
    "    cursor.execute(f\"SELECT stock_id FROM stock WHERE symbol = '{symbol}'\")#run sql script(get data)\n",
    "    data = cursor.fetchall()#get data as list\n",
    "    conn.close()#disconnect\n",
    "    return data[0][0]\n",
    "\n",
    "def get_index_id(symbol):\n",
    "    from sqlite3 import connect\n",
    "    conn = connect('stock.db',timeout=10)#connect to database\n",
    "    cursor = conn.cursor()\n",
    "    cursor.execute(f\"SELECT index_id FROM [index] WHERE symbol = '{symbol}'\")#run sql script(get data)\n",
    "    data = cursor.fetchall()#get data as list\n",
    "    conn.close()#disconnect\n",
    "    return data[0][0]\n",
    "\n",
    "def get_sector_id(symbol):\n",
    "    from sqlite3 import connect\n",
    "    conn = connect('stock.db',timeout=10)#connect to database\n",
    "    cursor = conn.cursor()\n",
    "    cursor.execute(f\"SELECT sector_id FROM sector WHERE symbol = '{symbol}'\")#run sql script(get data)\n",
    "    data = cursor.fetchall()#get data as list\n",
    "    conn.close()#disconnect\n",
    "    return data[0][0]\n",
    "\n",
    "def get_industry_id(symbol):\n",
    "    from sqlite3 import connect\n",
    "    conn = connect('stock.db',timeout=10)#connect to database\n",
    "    cursor = conn.cursor()\n",
    "    cursor.execute(f\"SELECT industry_id FROM industry WHERE symbol = '{symbol}'\")#run sql script(get data)\n",
    "    data = cursor.fetchall()#get data as list\n",
    "    conn.close()#disconnect\n",
    "    return data[0][0]\n",
    "\n",
    "def insert_SET100(id):\n",
    "    from sqlite3 import connect\n",
    "    conn = connect('stock.db',timeout=10)#connect to database\n",
    "    cursor = conn.cursor()\n",
    "    cursor.execute(f\"INSERT INTO SET100 VALUES ({id})\")\n",
    "    conn.commit()#commit change to db\n",
    "    conn.close()#disconnect"
   ]
  },
  {
   "cell_type": "code",
   "execution_count": 14,
   "metadata": {},
   "outputs": [
    {
     "data": {
      "text/plain": [
       "1"
      ]
     },
     "execution_count": 14,
     "metadata": {},
     "output_type": "execute_result"
    }
   ],
   "source": [
    "get_industry_id(\"AGRO\")"
   ]
  },
  {
   "cell_type": "code",
   "execution_count": 6,
   "metadata": {},
   "outputs": [],
   "source": [
    "insert_index(\"SET\")"
   ]
  },
  {
   "cell_type": "code",
   "execution_count": 7,
   "metadata": {},
   "outputs": [],
   "source": [
    "for i in industrial_name:\n",
    "    insert_industry(i.upper())"
   ]
  },
  {
   "cell_type": "code",
   "execution_count": 15,
   "metadata": {},
   "outputs": [
    {
     "name": "stdout",
     "output_type": "stream",
     "text": [
      "['AGRI', 'FOOD'] AGRO\n",
      "['FASHION', 'HOME', 'PERSON'] CONSUMP\n",
      "['BANK', 'FIN', 'INSUR'] FINCIAL\n",
      "['AUTO', 'IMM', 'PAPER', 'PETRO', 'PKG', 'STEEL'] INDUS\n",
      "['CONMAT', 'PROP', 'PF&REIT', 'CONS'] PROPCON\n",
      "['ENERG', 'MINE'] RESOURC\n",
      "['COMM', 'HELTH', 'MEDIA', 'PROF', 'TOURISM', 'TRANS'] SERVICE\n",
      "['ETRON', 'ICT'] TECH\n"
     ]
    }
   ],
   "source": [
    "for i in range(len(industrial)):\n",
    "    for j in industrial[i].keys():\n",
    "        insert_sector(j,industrial_name[i].upper())\n",
    "    print(list(industrial[i].keys()),industrial_name[i].upper())"
   ]
  },
  {
   "cell_type": "code",
   "execution_count": null,
   "metadata": {},
   "outputs": [],
   "source": []
  },
  {
   "cell_type": "code",
   "execution_count": 20,
   "metadata": {},
   "outputs": [],
   "source": [
    "for i in range(len(industrial)):\n",
    "    for sector in list(industrial[i].keys()):\n",
    "        for symbol in industrial[i][sector]:\n",
    "            insert_stock(symbol,\"SET\",industrial_name[i].upper(),sector)"
   ]
  }
 ],
 "metadata": {
  "kernelspec": {
   "display_name": "venv",
   "language": "python",
   "name": "python3"
  },
  "language_info": {
   "codemirror_mode": {
    "name": "ipython",
    "version": 3
   },
   "file_extension": ".py",
   "mimetype": "text/x-python",
   "name": "python",
   "nbconvert_exporter": "python",
   "pygments_lexer": "ipython3",
   "version": "3.10.7 (v3.10.7:6cc6b13308, Sep  5 2022, 14:02:52) [Clang 13.0.0 (clang-1300.0.29.30)]"
  },
  "orig_nbformat": 4,
  "vscode": {
   "interpreter": {
    "hash": "83c6f0656a9afcf2e3e7b748bc110ba80e8b43dc186a6c04e664844d3a8499a4"
   }
  }
 },
 "nbformat": 4,
 "nbformat_minor": 2
}
