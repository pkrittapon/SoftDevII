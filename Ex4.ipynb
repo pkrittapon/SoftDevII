{
 "cells": [
  {
   "cell_type": "code",
   "execution_count": 16,
   "metadata": {},
   "outputs": [
    {
     "name": "stdout",
     "output_type": "stream",
     "text": [
      "Duplicate\n"
     ]
    }
   ],
   "source": [
    "array = [0,1,2,3,4,5,6,7,8,9]\n",
    "check = False\n",
    "\n",
    "for i in range(len(array)):\n",
    "    for j in range(i+1,len(array)):\n",
    "        if array[i] == array[j]:\n",
    "            check = True\n",
    "            break   \n",
    "    if check:\n",
    "        print(\"Duplicate\")\n",
    "        break\n",
    "\n",
    "if not check:\n",
    "    print(\"Not Duplicate\")\n",
    "\n",
    "    "
   ]
  }
 ],
 "metadata": {
  "kernelspec": {
   "display_name": "Python 3.8.8 ('base')",
   "language": "python",
   "name": "python3"
  },
  "language_info": {
   "codemirror_mode": {
    "name": "ipython",
    "version": 3
   },
   "file_extension": ".py",
   "mimetype": "text/x-python",
   "name": "python",
   "nbconvert_exporter": "python",
   "pygments_lexer": "ipython3",
   "version": "3.8.8"
  },
  "orig_nbformat": 4,
  "vscode": {
   "interpreter": {
    "hash": "94739d9bda5c298837637c4c5c5209b978556cceb0d5bae3a69fa56560406532"
   }
  }
 },
 "nbformat": 4,
 "nbformat_minor": 2
}
