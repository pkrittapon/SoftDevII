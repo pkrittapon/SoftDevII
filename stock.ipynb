{
 "cells": [
  {
   "cell_type": "code",
   "execution_count": 2,
   "metadata": {},
   "outputs": [],
   "source": [
    "import requests\n",
    "from bs4 import BeautifulSoup\n",
    "from selenium import webdriver\n",
    "from selenium.webdriver.common.keys import Keys\n",
    "import time\n",
    "agro = {}\n",
    "consump = {}\n",
    "fincial = {}\n",
    "indus = {}\n",
    "propcon = {}\n",
    "resourc = {}\n",
    "service = {}\n",
    "tech = {}\n",
    "industrial = [agro,consump,fincial,indus,propcon,resourc,service,tech]\n",
    "industrial_name = ['agro','consump','fincial','indus','propcon','resourc','service','tech']\n",
    "\n",
    "baseurl = 'https://www.set.or.th/th/market/index/set/'\n",
    "\n",
    "# for i in range(len(industrial)):\n",
    "#     url = baseurl + industrial_name[i]\n",
    "#     driver = webdriver.Chrome('./chromedriver') \n",
    "#     driver.get(url) \n",
    "\n",
    "#     time.sleep(5) \n",
    "\n",
    "#     html = driver.page_source\n",
    "\n",
    "#     soup = BeautifulSoup(html, \"html.parser\")\n",
    "#     all_divs = soup.find_all('div', {'class' : 'd-flex align-items-center'})\n",
    "\n",
    "\n",
    "#     last_setter = ''\n",
    "\n",
    "#     for job_profile in all_divs :\n",
    "#         strip_line = job_profile.text.strip()\n",
    "#         if len(job_profile.text)-len(strip_line) == 41:\n",
    "#             last_setter = strip_line.split(' ')[0]\n",
    "#             industrial[i][last_setter] = []\n",
    "#         elif len(job_profile.text)-len(strip_line) == 19 or len(job_profile.text)-len(strip_line) == 20:\n",
    "#             industrial[i][last_setter].append(strip_line[0:8].replace('\\n','').strip())\n",
    "#     print(industrial[i])\n",
    "#     driver.close() "
   ]
  },
  {
   "cell_type": "code",
   "execution_count": 3,
   "metadata": {},
   "outputs": [
    {
     "name": "stderr",
     "output_type": "stream",
     "text": [
      "C:\\Users\\siwak\\AppData\\Local\\Temp\\ipykernel_21264\\2224512047.py:5: DeprecationWarning: executable_path has been deprecated, please pass in a Service object\n",
      "  driver = webdriver.Chrome('./chromedriver')\n"
     ]
    },
    {
     "name": "stdout",
     "output_type": "stream",
     "text": [
      "['ACE', 'ADVANC', 'AEONTS', 'AMATA', 'AOT', 'AP', 'AWC', 'BAM', 'BANPU', 'BBL', 'BCH', 'BCP', 'BCPG', 'BDMS', 'BEC', 'BEM', 'BGRIM', 'BH', 'BLA', 'BTS', 'CBG', 'CENTEL', 'CHG', 'CK', 'CKP', 'COM7', 'CPALL', 'CPF', 'CPN', 'CRC', 'DOHOME', 'DTAC', 'EA', 'EGCO', 'EPG', 'ESSO', 'FORTH', 'GLOBAL', 'GPSC', 'GULF', 'GUNKUL', 'HANA', 'HMPRO', 'INTUCH', 'IRPC', 'IVL', 'JMART', 'JMT', 'KBANK', 'KCE', 'KEX', 'KKP', 'KTB', 'KTC', 'LH', 'MAJOR', 'MEGA', 'MINT', 'MTC', 'ONEE', 'OR', 'ORI', 'OSP', 'PLANB', 'PSL', 'PTG', 'PTT', 'PTTEP', 'PTTGC', 'QH', 'RATCH', 'RBF', 'RCL', 'SAWAD', 'SCB', 'SCC', 'SCGP', 'SINGER', 'SPALI', 'SPRC', 'STA', 'STARK', 'STEC', 'STGT', 'SUPER', 'SYNEX', 'TASCO', 'TCAP', 'THANI', 'TIDLOR', 'TIPH', 'TISCO', 'TOP', 'TQM', 'TRUE', 'TTA', 'TTB', 'TU', 'VGI', 'WHA']\n",
      "100\n"
     ]
    }
   ],
   "source": [
    "#url of the page we want to scrape\n",
    "url = 'https://www.set.or.th/th/market/index/set100/overview'\n",
    "\n",
    "# initiating the webdriver. Parameter includes the path of the webdriver.\n",
    "driver = webdriver.Chrome('./chromedriver') \n",
    "driver.get(url) \n",
    "\n",
    "# this is just to ensure that the page is loaded\n",
    "time.sleep(5) \n",
    "\n",
    "html = driver.page_source\n",
    "# this renders the JS code and stores all\n",
    "# of the information in static HTML code.\n",
    "\n",
    "# Now, we could simply apply bs4 to html variable\n",
    "soup = BeautifulSoup(html, \"html.parser\")\n",
    "all_divs = soup.find_all('div', {'class' : 'symbol pt-1'})\n",
    "\n",
    "symbol_list = []\n",
    "for job_profile in all_divs :\n",
    "    symbol_list.append(job_profile.text.strip())\n",
    "print(symbol_list)\n",
    "print(len(symbol_list))\n",
    "driver.close() # closing the webdriver"
   ]
  },
  {
   "cell_type": "code",
   "execution_count": 7,
   "metadata": {},
   "outputs": [],
   "source": [
    "def insert_stock(sym,indust,sec):\n",
    "    from sqlite3 import connect\n",
    "    conn = connect('stock.db',timeout=10)#connect to database\n",
    "    cursor = conn.cursor()\n",
    "    cursor.execute(f\"INSERT INTO stock (symbol, [index] ,industrial, sector) VALUES ('{sym}','SET','{indust}','{sec}')\")\n",
    "    conn.commit()#commit change to db\n",
    "    conn.close()#disconnect\n",
    "\n",
    "def get_stock_id(symbol):\n",
    "    from sqlite3 import connect\n",
    "    conn = connect('stock.db',timeout=10)#connect to database\n",
    "    cursor = conn.cursor()\n",
    "    cursor.execute(f\"SELECT stock_id FROM stock WHERE symbol = '{symbol}'\")#run sql script(get data)\n",
    "    data = cursor.fetchall()#get data as list\n",
    "    conn.close()#disconnect\n",
    "    return data[0][0]\n",
    "\n",
    "def insert_SET100(id):\n",
    "    from sqlite3 import connect\n",
    "    conn = connect('stock.db',timeout=10)#connect to database\n",
    "    cursor = conn.cursor()\n",
    "    cursor.execute(f\"INSERT INTO SET100 VALUES ({id})\")\n",
    "    conn.commit()#commit change to db\n",
    "    conn.close()#disconnect"
   ]
  },
  {
   "cell_type": "code",
   "execution_count": 8,
   "metadata": {},
   "outputs": [],
   "source": [
    "for i in symbol_list:\n",
    "    insert_SET100(get_stock_id(i))"
   ]
  },
  {
   "cell_type": "code",
   "execution_count": 15,
   "metadata": {},
   "outputs": [],
   "source": [
    "for i in range(len(industrial)):\n",
    "    for sector in list(industrial[i].keys()):\n",
    "        for symbol in industrial[i][sector]:\n",
    "            insert_stock(symbol,industrial_name[i].upper(),sector)\n"
   ]
  },
  {
   "cell_type": "code",
   "execution_count": 10,
   "metadata": {},
   "outputs": [
    {
     "name": "stdout",
     "output_type": "stream",
     "text": [
      "[('2S',), ('3K-BA',), ('7UP',), ('A',), ('AAI',), ('AAV',), ('ACC',), ('ACE',), ('ACG',), ('ADVANC',), ('AEONT',), ('AFC',), ('AGE',), ('AH',), ('AHC',), ('AI',), ('AIE',), ('AIMCG',), ('AIMIRT',), ('AIT',), ('AJ',), ('AJA',), ('AKR',), ('ALLA',), ('ALLY',), ('ALT',), ('ALUCO',), ('AMANA',), ('AMARIN',), ('AMATA',), ('AMATAR',), ('AMATAV',), ('AMC',), ('AMR',), ('ANAN',), ('AOT',), ('AP',), ('APCO',), ('APCS',), ('APEX',), ('APURE',), ('AQ',), ('AQUA',), ('AS',), ('ASAP',), ('ASEFA',), ('ASIA',), ('ASIAN',), ('ASIMAR',), ('ASK',), ('ASP',), ('ASW',), ('AURA',), ('AWC',), ('AYUD',), ('B',), ('B-WORK',), ('B52',), ('BA',), ('BAFS',), ('BAM',), ('BANPU',), ('BAREIT',), ('BAY',), ('BBGI',), ('BBL',), ('BCH',), ('BCP',), ('BCPG',), ('BCT',), ('BDMS',), ('BEAUTY',), ('BEC',), ('BEM',), ('BEYOND',), ('BGC',), ('BGRIM',), ('BH',), ('BIG',), ('BIOTEC',), ('BIZ',), ('BJC',), ('BJCHI',), ('BKD',), ('BKI',), ('BKKCP',), ('BLA',), ('BLAND',), ('BLISS',), ('BOFFICE',), ('BPP',), ('BR',), ('BRI',), ('BROCK',), ('BRR',), ('BRRGIF',), ('BSBM',), ('BTG',), ('BTNC',), ('BTS',), ('BTSGIF',), ('BUI',), ('BWG',), ('BYD',), ('CBG',), ('CCET',), ('CCP',), ('CEN',), ('CENTEL',), ('CFRES',), ('CGD',), ('CGH',), ('CH',), ('CHARA',), ('CHAYO',), ('CHG',), ('CHOTI',), ('CI',), ('CIMBT',), ('CITY',), ('CIVIL',), ('CK',), ('CKP',), ('CM',), ('CMAN',), ('CMC',), ('CMR',), ('CNT',), ('COM7',), ('COTTO',), ('CPALL',), ('CPF',), ('CPH',), ('CPI',), ('CPL',), ('CPN',), ('CPNCG',), ('CPNREIT',), ('CPT',), ('CPTGF',), ('CPW',), ('CRANE',), ('CRC',), ('CSC',), ('CSP',), ('CSR',), ('CSS',), ('CTARAF',), ('CTW',), ('CV',), ('CWT',), ('DCC',), ('DCON',), ('DDD',), ('DELTA',), ('DEMCO',), ('DIF',), ('DMT',), ('DOHOME',), ('DREIT',), ('DRT',), ('DTAC',), ('DTCENT',), ('DTCI',), ('DUSIT',), ('EA',), ('EASON',), ('EASTW',), ('ECL',), ('EE',), ('EGATIF',), ('EGCO',), ('EKH',), ('EMC',), ('EP',), ('EPG',), ('ERW',), ('ERWPF',), ('ESSO',), ('ESTAR',), ('ETC',), ('EVER',), ('F&D',), ('FANCY',), ('FE',), ('FMT',), ('FN',), ('FNS',), ('FORTH',), ('FPT',), ('FSS',), ('FTE',), ('FTI',), ('FTREIT',), ('FUTUREPF',), ('GAHREIT',), ('GBX',), ('GC',), ('GEL',), ('GENCO',), ('GFPT',), ('GGC',), ('GIFT',), ('GJS',), ('GL',), ('GLAND',), ('GLOBAL',), ('GLOCO',), ('GPI',), ('GPSC',), ('GRAMMY',), ('GRAND',), ('GREEN',), ('GROREIT',), ('GSTEE',), ('GULF',), ('GUNKUL',), ('GVREIT',), ('GYT',), ('HANA',), ('HENG',), ('HFT',), ('HMPRO',), ('HPF',), ('HTC',), ('HTECH',), ('HUMAN',), ('HYDROGEN',), ('ICC',), ('ICHI',), ('IFEC',), ('IFS',), ('IHL',), ('III',), ('ILINK',), ('ILM',), ('IMPACT',), ('INET',), ('INETREIT',), ('INGRS',), ('INOX',), ('INSET',), ('INSUR',), ('INTUCH',), ('IRC',), ('IRPC',), ('IT',), ('ITC',), ('ITD',), ('ITEL',), ('IVL',), ('J',), ('JAS',), ('JASIF',), ('JCK',), ('JCT',), ('JDF',), ('JKN',), ('JMART',), ('JMT',), ('JR',), ('JTS',), ('JWD',), ('KAMART',), ('KBANK',), ('KBS',), ('KBSPIF',), ('KC',), ('KCAR',), ('KCE',), ('KDH',), ('KEX',), ('KGI',), ('KIAT',), ('KISS',), ('KKC',), ('KKP',), ('KPNPF',), ('KSL',), ('KTB',), ('KTBSTMR',), ('KTC',), ('KTIS',), ('KWC',), ('KWI',), ('KYE',), ('L&E',), ('LALIN',), ('LANNA',), ('LEE',), ('LH',), ('LHFG',), ('LHHOTEL',), ('LHK',), ('LHPF',), ('LHSC',), ('LOXLEY',), ('LPF',), ('LPH',), ('LPN',), ('LRH',), ('LST',), ('LUXF',), ('M',), ('M-CHAI',), ('M-II',), ('M-PAT',), ('M-STOR',), ('MACO',), ('MAJOR',), ('MAKRO',), ('MALEE',), ('MANRIN',), ('MATCH',), ('MATI',), ('MAX',), ('MBK',), ('MC',), ('MCOT',), ('MCS',), ('MDX',), ('MEGA',), ('MENA',), ('METCO',), ('MFC',), ('MFEC',), ('MICRO',), ('MIDA',), ('MILL',), ('MINT',), ('MIPF',), ('MIT',), ('MJD',), ('MJLF',), ('MK',), ('ML',), ('MNIT',), ('MNIT2',), ('MNRF',), ('MODER',), ('MONO',), ('MOSHI',), ('MPIC',), ('MSC',), ('MST',), ('MTC',), ('MTI',), ('NATION',), ('NC',), ('NCAP',), ('NCH',), ('NEP',), ('NER',), ('NEW',), ('NEX',), ('NFC',), ('NKI',), ('NNCL',), ('NOBLE',), ('NOK',), ('NOVA',), ('NRF',), ('NSI',), ('NSL',), ('NTV',), ('NUSA',), ('NV',), ('NVD',), ('NWR',), ('NYT',), ('OCC',), ('OGC',), ('OHTL',), ('OISHI',), ('ONEE',), ('OR',), ('ORI',), ('OSP',), ('PACE',), ('PAF',), ('PAP',), ('PATO',), ('PB',), ('PCC',), ('PCSGH',), ('PDJ',), ('PEACE',), ('PERM',), ('PF',), ('PG',), ('PIN',), ('PK',), ('PL',), ('PLANB',), ('PLAT',), ('PLE',), ('PLUS',), ('PM',), ('PMTA',), ('POLAR',), ('POLY',), ('POPF',), ('PORT',), ('POST',), ('PPF',), ('PPP',), ('PPPM',), ('PR9',), ('PRAKIT',), ('PREB',), ('PRECHA',), ('PRG',), ('PRIME',), ('PRIN',), ('PRINC',), ('PRM',), ('PRO',), ('PROSPECT',), ('PSH',), ('PSL',), ('PT',), ('PTECH',), ('PTG',), ('PTL',), ('PTT',), ('PTTEP',), ('PTTGC',), ('PYLON',), ('Q-CON',), ('QH',), ('QHHR',), ('QHOP',), ('QHPF',), ('QTC',), ('RABBIT',), ('RAM',), ('RATCH',), ('RBF',), ('RCL',), ('RICHY',), ('RJH',), ('RML',), ('ROCK',), ('ROH',), ('ROJNA',), ('RPC',), ('RPH',), ('RS',), ('RSP',), ('RT',), ('S',), ('S&J',), ('S11',), ('SA',), ('SABIN',), ('SABUY',), ('SAK',), ('SAM',), ('SAMART',), ('SAMCO',), ('SAMTEL',), ('SAPPE',), ('SAT',), ('SAUCE',), ('SAWAD',), ('SAWAN',), ('SC',), ('SCAP',), ('SCB',), ('SCC',), ('SCCC',), ('SCG',), ('SCGP',), ('SCI',), ('SCM',), ('SCN',), ('SCP',), ('SDC',), ('SE-ED',), ('SEAFCO',), ('SENA',), ('SFLEX',), ('SFP',), ('SGC',), ('SGP',), ('SHANG',), ('SHR',), ('SHREIT',), ('SIAM',), ('SINGER',), ('SIRI',), ('SIRIP',), ('SIS',), ('SISB',), ('SITHA',), ('SKE',), ('SKN',), ('SKR',), ('SKY',), ('SLP',), ('SM',), ('SMIT',), ('SMK',), ('SMPC',), ('SMT',), ('SNC',), ('SNNP',), ('SNP',), ('SO',), ('SOLAR',), ('SORKO',), ('SPACK',), ('SPALI',), ('SPC',), ('SPCG',), ('SPG',), ('SPI',), ('SPRC',), ('SPRIME',), ('SQ',), ('SRICHA',), ('SRIPANWA',), ('SSC',), ('SSF',), ('SSP',), ('SSPF',), ('SSSC',), ('SST',), ('SSTRT',), ('STA',), ('STANL',), ('STARK',), ('STEC',), ('STECH',), ('STGT',), ('STHAI',), ('STI',), ('STPI',), ('SUC',), ('SUN',), ('SUPER',), ('SUPEREIF',), ('SUSCO',), ('SUTHA',), ('SVI',), ('SVOA',), ('SVT',), ('SYMC',), ('SYNEX',), ('SYNTEC',), ('TAE',), ('TASCO',), ('TC',), ('TCAP',), ('TCC',), ('TCCC',), ('TCJ',), ('TCMC',), ('TCOAT',), ('TEAM',), ('TEAMG',), ('TEGH',), ('TEKA',), ('TFFIF',), ('TFG',), ('TFI',), ('TFM',), ('TFMAM',), ('TGE',), ('TGH',), ('TGPRO',), ('TH',), ('THAI',), ('THANI',), ('THCOM',), ('THE',), ('THG',), ('THIP',), ('THL',), ('THRE',), ('THREL',), ('TIDLO',), ('TIF1',), ('TIPCO',), ('TIPH',), ('TISCO',), ('TK',), ('TKC',), ('TKN',), ('TKS',), ('TKT',), ('TLHPF',), ('TLI',), ('TMD',), ('TMT',), ('TNITY',), ('TNL',), ('TNPC',), ('TNPF',), ('TNR',), ('TOA',), ('TOG',), ('TOP',), ('TOPP',), ('TPA',), ('TPAC',), ('TPBI',), ('TPCS',), ('TPIPL',), ('TPIPP',), ('TPOLY',), ('TPP',), ('TPRIME',), ('TQM',), ('TR',), ('TRC',), ('TRITN',), ('TRU',), ('TRUBB',), ('TRUE',), ('TSC',), ('TSE',), ('TSI',), ('TSR',), ('TSTE',), ('TSTH',), ('TTA',), ('TTB',), ('TTCL',), ('TTI',), ('TTLPF',), ('TTT',), ('TTW',), ('TU',), ('TU-PF',), ('TVI',), ('TVO',), ('TWP',), ('TWPC',), ('TWZ',), ('TYCN',), ('UAC',), ('UBE',), ('UMI',), ('UNIQ',), ('UOBKH',), ('UP',), ('UPF',), ('UPOIC',), ('URBNPF',), ('UTP',), ('UV',), ('UVAN',), ('VARO',), ('VGI',), ('VIBHA',), ('VIH',), ('VNG',), ('VPO',), ('VRANDA',), ('W',), ('WACOA',), ('WAVE',), ('WFX',), ('WGE',), ('WHA',), ('WHABT',), ('WHAIR',), ('WHART',), ('WHAUP',), ('WICE',), ('WIIK',), ('WIN',), ('WORK',), ('WP',), ('WPH',), ('XPG',), ('ZEN',)]\n"
     ]
    }
   ],
   "source": [
    "from sqlite3 import connect\n",
    "conn = connect('stock.db',timeout=10)#connect to database\n",
    "cursor = conn.cursor()\n",
    "cursor.execute(f\"SELECT symbol FROM stock\")#run sql script(get data)\n",
    "data = cursor.fetchall()#get data as list\n",
    "conn.close()#disconnect\n",
    "print(data)"
   ]
  },
  {
   "cell_type": "code",
   "execution_count": null,
   "metadata": {},
   "outputs": [],
   "source": [
    "from .function import database\n",
    "\n",
    "database.g"
   ]
  }
 ],
 "metadata": {
  "kernelspec": {
   "display_name": "env",
   "language": "python",
   "name": "python3"
  },
  "language_info": {
   "codemirror_mode": {
    "name": "ipython",
    "version": 3
   },
   "file_extension": ".py",
   "mimetype": "text/x-python",
   "name": "python",
   "nbconvert_exporter": "python",
   "pygments_lexer": "ipython3",
   "version": "3.11.1 (tags/v3.11.1:a7a450f, Dec  6 2022, 19:58:39) [MSC v.1934 64 bit (AMD64)]"
  },
  "orig_nbformat": 4,
  "vscode": {
   "interpreter": {
    "hash": "c706bf2a2bb3b4bf6e101383e12bc98ab87f6b0386c63ac29761724a50b76e38"
   }
  }
 },
 "nbformat": 4,
 "nbformat_minor": 2
}
