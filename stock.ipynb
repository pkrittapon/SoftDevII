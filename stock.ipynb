{
 "cells": [
  {
   "cell_type": "code",
   "execution_count": null,
   "metadata": {},
   "outputs": [],
   "source": [
    "import requests\n",
    "from bs4 import BeautifulSoup\n",
    "from selenium import webdriver\n",
    "from selenium.webdriver.common.keys import Keys\n",
    "import time\n",
    "agro = {}\n",
    "consump = {}\n",
    "fincial = {}\n",
    "indus = {}\n",
    "propcon = {}\n",
    "resourc = {}\n",
    "service = {}\n",
    "tech = {}\n",
    "industrial = [agro,consump,fincial,indus,propcon,resourc,service,tech]\n",
    "industrial_name = ['agro','consump','fincial','indus','propcon','resourc','service','tech']\n",
    "\n",
    "baseurl = 'https://www.set.or.th/th/market/index/set/'\n",
    "\n",
    "for i in range(len(industrial)):\n",
    "    url = baseurl + industrial_name[i]\n",
    "    driver = webdriver.Chrome('./chromedriver') \n",
    "    driver.get(url) \n",
    "\n",
    "    time.sleep(2) \n",
    "\n",
    "    html = driver.page_source\n",
    "\n",
    "    soup = BeautifulSoup(html, \"html.parser\")\n",
    "    all_divs = soup.find_all('div', {'class' : 'd-flex align-items-center'})\n",
    "\n",
    "\n",
    "    last_setter = ''\n",
    "\n",
    "    for job_profile in all_divs :\n",
    "        strip_line = job_profile.text.strip()\n",
    "        if len(job_profile.text)-len(strip_line) == 41:\n",
    "            last_setter = strip_line.split(' ')[0]\n",
    "            industrial[i][last_setter] = []\n",
    "        elif len(job_profile.text)-len(strip_line) == 19 or len(job_profile.text)-len(strip_line) == 20:\n",
    "            industrial[i][last_setter].append(strip_line[0:8].replace('\\n','').strip())\n",
    "    print(industrial[i])\n",
    "    driver.close() "
   ]
  },
  {
   "cell_type": "code",
   "execution_count": null,
   "metadata": {},
   "outputs": [],
   "source": [
    "#url of the page we want to scrape\n",
    "url = 'https://www.set.or.th/th/market/index/set100/overview'\n",
    "\n",
    "# initiating the webdriver. Parameter includes the path of the webdriver.\n",
    "driver = webdriver.Chrome('./chromedriver') \n",
    "driver.get(url) \n",
    "\n",
    "# this is just to ensure that the page is loaded\n",
    "time.sleep(5) \n",
    "\n",
    "html = driver.page_source\n",
    "# this renders the JS code and stores all\n",
    "# of the information in static HTML code.\n",
    "\n",
    "# Now, we could simply apply bs4 to html variable\n",
    "soup = BeautifulSoup(html, \"html.parser\")\n",
    "all_divs = soup.find_all('div', {'class' : 'symbol pt-1'})\n",
    "\n",
    "symbol_list = []\n",
    "for job_profile in all_divs :\n",
    "    symbol_list.append(job_profile.text.strip())\n",
    "print(symbol_list)\n",
    "print(len(symbol_list))\n",
    "driver.close() # closing the webdriver"
   ]
  },
  {
   "cell_type": "code",
   "execution_count": null,
   "metadata": {},
   "outputs": [],
   "source": [
    "def insert_stock(sym,indust,sec):\n",
    "    from sqlite3 import connect\n",
    "    conn = connect('stock.db',timeout=10)#connect to database\n",
    "    cursor = conn.cursor()\n",
    "    cursor.execute(f\"INSERT INTO stock (symbol, [index] ,industrial, sector) VALUES ('{sym}','SET','{indust}','{sec}')\")\n",
    "    conn.commit()#commit change to db\n",
    "    conn.close()#disconnect\n",
    "\n",
    "def get_stock_id(symbol):\n",
    "    from sqlite3 import connect\n",
    "    conn = connect('stock.db',timeout=10)#connect to database\n",
    "    cursor = conn.cursor()\n",
    "    cursor.execute(f\"SELECT stock_id FROM stock WHERE symbol = '{symbol}'\")#run sql script(get data)\n",
    "    data = cursor.fetchall()#get data as list\n",
    "    conn.close()#disconnect\n",
    "    return data[0][0]\n",
    "\n",
    "def insert_SET100(id):\n",
    "    from sqlite3 import connect\n",
    "    conn = connect('stock.db',timeout=10)#connect to database\n",
    "    cursor = conn.cursor()\n",
    "    cursor.execute(f\"INSERT INTO SET100 VALUES ({id})\")\n",
    "    conn.commit()#commit change to db\n",
    "    conn.close()#disconnect"
   ]
  },
  {
   "cell_type": "code",
   "execution_count": null,
   "metadata": {},
   "outputs": [],
   "source": [
    "for i in symbol_list:\n",
    "    insert_SET100(get_stock_id(i))"
   ]
  },
  {
   "cell_type": "code",
   "execution_count": null,
   "metadata": {},
   "outputs": [],
   "source": [
    "for i in range(len(industrial)):\n",
    "    for sector in list(industrial[i].keys()):\n",
    "        for symbol in industrial[i][sector]:\n",
    "            insert_stock(symbol,industrial_name[i].upper(),sector)\n"
   ]
  },
  {
   "cell_type": "code",
   "execution_count": null,
   "metadata": {},
   "outputs": [],
   "source": [
    "from sqlite3 import connect\n",
    "conn = connect('stock.db',timeout=10)#connect to database\n",
    "cursor = conn.cursor()\n",
    "cursor.execute(f\"SELECT symbol FROM stock\")#run sql script(get data)\n",
    "data = cursor.fetchall()#get data as list\n",
    "conn.close()#disconnect\n",
    "print(data)"
   ]
  },
  {
   "cell_type": "code",
   "execution_count": 1,
   "metadata": {},
   "outputs": [
    {
     "ename": "ModuleNotFoundError",
     "evalue": "No module named 'yfinance'",
     "output_type": "error",
     "traceback": [
      "\u001b[0;31m---------------------------------------------------------------------------\u001b[0m",
      "\u001b[0;31mModuleNotFoundError\u001b[0m                       Traceback (most recent call last)",
      "Cell \u001b[0;32mIn[1], line 1\u001b[0m\n\u001b[0;32m----> 1\u001b[0m \u001b[39mfrom\u001b[39;00m \u001b[39mdata\u001b[39;00m\u001b[39m.\u001b[39;00m\u001b[39mfunction\u001b[39;00m \u001b[39mimport\u001b[39;00m Stock\n\u001b[1;32m      2\u001b[0m aot \u001b[39m=\u001b[39m Stock(\u001b[39m\"\u001b[39m\u001b[39mAOT\u001b[39m\u001b[39m\"\u001b[39m)\n\u001b[1;32m      3\u001b[0m aot\u001b[39m.\u001b[39mget_stock_price()\n",
      "File \u001b[0;32m~/Desktop/test/data/function.py:3\u001b[0m\n\u001b[1;32m      1\u001b[0m \u001b[39mimport\u001b[39;00m \u001b[39msqlite3\u001b[39;00m\n\u001b[1;32m      2\u001b[0m \u001b[39mimport\u001b[39;00m \u001b[39mdatetime\u001b[39;00m\n\u001b[0;32m----> 3\u001b[0m \u001b[39mimport\u001b[39;00m \u001b[39myfinance\u001b[39;00m \u001b[39mas\u001b[39;00m \u001b[39myf\u001b[39;00m\n\u001b[1;32m      4\u001b[0m \u001b[39mimport\u001b[39;00m \u001b[39mpandas\u001b[39;00m \u001b[39mas\u001b[39;00m \u001b[39mpd\u001b[39;00m\n\u001b[1;32m      6\u001b[0m \u001b[39mclass\u001b[39;00m \u001b[39mCategories\u001b[39;00m:\n",
      "\u001b[0;31mModuleNotFoundError\u001b[0m: No module named 'yfinance'"
     ]
    }
   ],
   "source": [
    "from data.function import Stock\n",
    "aot = Stock(\"AOT\")\n",
    "aot.get_stock_price()"
   ]
  }
 ],
 "metadata": {
  "kernelspec": {
   "display_name": "Python 3",
   "language": "python",
   "name": "python3"
  },
  "language_info": {
   "codemirror_mode": {
    "name": "ipython",
    "version": 3
   },
   "file_extension": ".py",
   "mimetype": "text/x-python",
   "name": "python",
   "nbconvert_exporter": "python",
   "pygments_lexer": "ipython3",
   "version": "3.10.7 (v3.10.7:6cc6b13308, Sep  5 2022, 14:02:52) [Clang 13.0.0 (clang-1300.0.29.30)]"
  },
  "orig_nbformat": 4,
  "vscode": {
   "interpreter": {
    "hash": "aee8b7b246df8f9039afb4144a1f6fd8d2ca17a180786b69acc140d282b71a49"
   }
  }
 },
 "nbformat": 4,
 "nbformat_minor": 2
}
