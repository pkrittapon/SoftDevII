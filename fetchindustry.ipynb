{
 "cells": [
  {
   "cell_type": "code",
   "execution_count": 22,
   "metadata": {},
   "outputs": [],
   "source": [
    "def get_indus_or_sector_price(name,start):\n",
    "    import yfinance as yf\n",
    "    from datetime import datetime\n",
    "    start = datetime.strptime(start, '%Y-%m-%d %X')# convert string to datetime obj\n",
    "    data = yf.download(tickers=name, start=start , interval = '1h') #get data\n",
    "    data[\"Date\"] = data.index.strftime('%Y-%m-%d %X') # convert pandas timestamp to string \n",
    "    return data.values.tolist() #return value in type list"
   ]
  },
  {
   "cell_type": "code",
   "execution_count": 21,
   "metadata": {},
   "outputs": [],
   "source": [
    "def insert_indus(id,data):\n",
    "    from sqlite3 import connect\n",
    "    conn = connect('stock.db',timeout=10)#connect to database\n",
    "    cursor = conn.cursor()\n",
    "    for price in data:\n",
    "        cursor.execute(f\"INSERT INTO sector_price_hour VALUES (null,{id},'{price[6]}',{price[0]},{price[1]},{price[2]},{price[3]})\")\n",
    "    conn.commit()#commit change to db\n",
    "    conn.close()#disconnect\n",
    "    print('done')"
   ]
  },
  {
   "cell_type": "code",
   "execution_count": 20,
   "metadata": {},
   "outputs": [],
   "source": [
    "def insert_sector(price,id):\n",
    "    from sqlite3 import connect\n",
    "    conn = connect('stock.db',timeout=10)#connect to database\n",
    "    cursor = conn.cursor()\n",
    "    cursor.execute(f\"INSERT INTO sector_price_hours VALUES (null,{id},'{price[6]}',{price[0]},{price[1]},{price[2]},{price[3]})\")\n",
    "    conn.commit()#commit change to db\n",
    "    conn.close()#disconnect"
   ]
  },
  {
   "cell_type": "code",
   "execution_count": 20,
   "metadata": {},
   "outputs": [
    {
     "data": {
      "text/plain": [
       "['AGRI',\n",
       " 'AUTO',\n",
       " 'BANK',\n",
       " 'COMM',\n",
       " 'CONMAT',\n",
       " 'CONS',\n",
       " 'ENERG',\n",
       " 'ETRON',\n",
       " 'FASHION',\n",
       " 'FIN',\n",
       " 'FOOD',\n",
       " 'HELTH',\n",
       " 'HOME',\n",
       " 'ICT',\n",
       " 'IMM',\n",
       " 'INSUR',\n",
       " 'MEDIA',\n",
       " 'MINE',\n",
       " 'PAPER',\n",
       " 'PERSON',\n",
       " 'PETRO',\n",
       " 'PF&REIT',\n",
       " 'PKG',\n",
       " 'PROF',\n",
       " 'PROP',\n",
       " 'STEEL',\n",
       " 'TOURISM',\n",
       " 'TRANS']"
      ]
     },
     "execution_count": 20,
     "metadata": {},
     "output_type": "execute_result"
    }
   ],
   "source": [
    "from data.function import Stock,Categories\n",
    "Categories().get_sector_id(\"AGRI\")\n",
    "Categories().get_all_sector()"
   ]
  },
  {
   "cell_type": "code",
   "execution_count": 23,
   "metadata": {},
   "outputs": [
    {
     "name": "stdout",
     "output_type": "stream",
     "text": [
      "AGRI\n",
      "[*********************100%***********************]  1 of 1 completed\n",
      "done\n",
      "AUTO\n",
      "[*********************100%***********************]  1 of 1 completed\n",
      "done\n",
      "BANK\n",
      "[*********************100%***********************]  1 of 1 completed\n",
      "done\n",
      "COMM\n",
      "[*********************100%***********************]  1 of 1 completed\n",
      "done\n",
      "CONMAT\n",
      "[*********************100%***********************]  1 of 1 completed\n",
      "done\n",
      "CONS\n",
      "[*********************100%***********************]  1 of 1 completed\n",
      "done\n",
      "ENERG\n",
      "[*********************100%***********************]  1 of 1 completed\n",
      "done\n",
      "ETRON\n",
      "[*********************100%***********************]  1 of 1 completed\n",
      "done\n",
      "FASHION\n",
      "[*********************100%***********************]  1 of 1 completed\n",
      "done\n",
      "FIN\n",
      "[*********************100%***********************]  1 of 1 completed\n",
      "done\n",
      "FOOD\n",
      "[*********************100%***********************]  1 of 1 completed\n",
      "done\n",
      "HELTH\n",
      "[*********************100%***********************]  1 of 1 completed\n",
      "done\n",
      "HOME\n",
      "[*********************100%***********************]  1 of 1 completed\n",
      "done\n",
      "ICT\n",
      "[*********************100%***********************]  1 of 1 completed\n",
      "done\n",
      "IMM\n",
      "[*********************100%***********************]  1 of 1 completed\n",
      "done\n",
      "INSUR\n",
      "[*********************100%***********************]  1 of 1 completed\n",
      "done\n",
      "MEDIA\n",
      "[*********************100%***********************]  1 of 1 completed\n",
      "done\n",
      "MINE\n",
      "[*********************100%***********************]  1 of 1 completed\n",
      "\n",
      "1 Failed download:\n",
      "- ^MINE.BK: Period 'max' is invalid, must be one of ['1d', '5d']\n",
      "PAPER\n",
      "[*********************100%***********************]  1 of 1 completed\n",
      "done\n",
      "PERSON\n",
      "[*********************100%***********************]  1 of 1 completed\n",
      "done\n",
      "PETRO\n",
      "[*********************100%***********************]  1 of 1 completed\n",
      "done\n",
      "PF&REIT\n",
      "[*********************100%***********************]  1 of 1 completed\n",
      "done\n",
      "PKG\n",
      "[*********************100%***********************]  1 of 1 completed\n",
      "done\n",
      "PROF\n",
      "[*********************100%***********************]  1 of 1 completed\n",
      "done\n",
      "PROP\n",
      "[*********************100%***********************]  1 of 1 completed\n",
      "done\n",
      "STEEL\n",
      "[*********************100%***********************]  1 of 1 completed\n",
      "done\n",
      "TOURISM\n",
      "[*********************100%***********************]  1 of 1 completed\n",
      "done\n",
      "TRANS\n",
      "[*********************100%***********************]  1 of 1 completed\n",
      "done\n"
     ]
    }
   ],
   "source": [
    "from data.function import Stock,Categories\n",
    "industry = Categories()\n",
    "for i in industry.get_all_sector():\n",
    "    print(i)\n",
    "    try:\n",
    "        insert_indus(industry.get_sector_id(i),get_indus_or_sector_price('^'+i+'.bk','2021-01-15 00:00:00'))\n",
    "    except:\n",
    "        continue\n",
    "    \n"
   ]
  }
 ],
 "metadata": {
  "kernelspec": {
   "display_name": "venv",
   "language": "python",
   "name": "python3"
  },
  "language_info": {
   "codemirror_mode": {
    "name": "ipython",
    "version": 3
   },
   "file_extension": ".py",
   "mimetype": "text/x-python",
   "name": "python",
   "nbconvert_exporter": "python",
   "pygments_lexer": "ipython3",
   "version": "3.10.7"
  },
  "orig_nbformat": 4,
  "vscode": {
   "interpreter": {
    "hash": "83c6f0656a9afcf2e3e7b748bc110ba80e8b43dc186a6c04e664844d3a8499a4"
   }
  }
 },
 "nbformat": 4,
 "nbformat_minor": 2
}
