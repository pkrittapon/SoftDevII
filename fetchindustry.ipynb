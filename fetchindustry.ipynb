{
 "cells": [
  {
   "cell_type": "code",
   "execution_count": 18,
   "metadata": {},
   "outputs": [],
   "source": [
    "def get_stock_and_crypto_data(name,start):\n",
    "    import yfinance as yf\n",
    "    from datetime import datetime\n",
    "    start = datetime.strptime(start, '%Y-%m-%d')# convert string to datetime obj\n",
    "    data = yf.download(tickers=name, start=start , interval = '1h') #get data\n",
    "    data[\"Date\"] = data.index.strftime('%Y-%m-%d %X') # convert pandas timestamp to string \n",
    "    return data.values.tolist() #return value in type list"
   ]
  },
  {
   "cell_type": "code",
   "execution_count": 19,
   "metadata": {},
   "outputs": [],
   "source": [
    "def insert_indus(price,name):\n",
    "    from sqlite3 import connect\n",
    "    conn = connect('stock.db',timeout=10)#connect to database\n",
    "    cursor = conn.cursor()\n",
    "    cursor.execute(f\"INSERT INTO industrial_price VALUES (null,'{name}','{price[6]}',{price[0]},{price[1]},{price[2]},{price[3]})\")\n",
    "    conn.commit()#commit change to db\n",
    "    conn.close()#disconnect"
   ]
  },
  {
   "cell_type": "code",
   "execution_count": 20,
   "metadata": {},
   "outputs": [],
   "source": [
    "def insert_sector(price,name):\n",
    "    from sqlite3 import connect\n",
    "    conn = connect('stock.db',timeout=10)#connect to database\n",
    "    cursor = conn.cursor()\n",
    "    cursor.execute(f\"INSERT INTO sector_price VALUES (null,'{name}','{price[6]}',{price[0]},{price[1]},{price[2]},{price[3]})\")\n",
    "    conn.commit()#commit change to db\n",
    "    conn.close()#disconnect"
   ]
  },
  {
   "cell_type": "code",
   "execution_count": 26,
   "metadata": {},
   "outputs": [
    {
     "name": "stdout",
     "output_type": "stream",
     "text": [
      "2\n",
      "1\n",
      "[*********************100%***********************]  1 of 1 completed\n",
      "1\n",
      "[*********************100%***********************]  1 of 1 completed\n",
      "1\n",
      "[*********************100%***********************]  1 of 1 completed\n",
      "1\n",
      "[*********************100%***********************]  1 of 1 completed\n",
      "1\n",
      "[*********************100%***********************]  1 of 1 completed\n",
      "1\n",
      "[*********************100%***********************]  1 of 1 completed\n",
      "1\n",
      "[*********************100%***********************]  1 of 1 completed\n",
      "1\n",
      "[*********************100%***********************]  1 of 1 completed\n"
     ]
    }
   ],
   "source": [
    "from data.function import Stock,Categories\n",
    "indus = Categories().get_all_sector()\n",
    "cont = False\n",
    "for i in indus:\n",
    "    if cont == True:\n",
    "        print(1)\n",
    "        temp = get_stock_and_crypto_data(f\"^{i}.bk\",\"2021-01-09\")\n",
    "        for j in temp:\n",
    "            insert_sector(j,i)\n",
    "    elif i == \"MINE\":\n",
    "        cont = True\n",
    "        print(2)\n",
    "    \n"
   ]
  }
 ],
 "metadata": {
  "kernelspec": {
   "display_name": "Python 3",
   "language": "python",
   "name": "python3"
  },
  "language_info": {
   "codemirror_mode": {
    "name": "ipython",
    "version": 3
   },
   "file_extension": ".py",
   "mimetype": "text/x-python",
   "name": "python",
   "nbconvert_exporter": "python",
   "pygments_lexer": "ipython3",
   "version": "3.9.13 (tags/v3.9.13:6de2ca5, May 17 2022, 16:36:42) [MSC v.1929 64 bit (AMD64)]"
  },
  "orig_nbformat": 4,
  "vscode": {
   "interpreter": {
    "hash": "cd05a3f72561a4cd3675d1e6dd09f9984a3a823058cba838b94e660222799a0f"
   }
  }
 },
 "nbformat": 4,
 "nbformat_minor": 2
}
