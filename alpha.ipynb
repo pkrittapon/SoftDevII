{
 "cells": [
  {
   "cell_type": "code",
   "execution_count": 73,
   "metadata": {},
   "outputs": [],
   "source": [
    "#  TDHPCWL40AZFBJ82\n",
    "\n",
    "import requests\n",
    "import pandas as pd\n",
    "# replace the \"demo\" apikey below with your own key from https://www.alphavantage.co/support/#api-key\n",
    "url_earning = 'https://www.alphavantage.co/query?function=EARNINGS&symbol=IBM&apikey=TDHPCWL40AZFBJ82'\n",
    "url_balance_sheet = 'https://www.alphavantage.co/query?function=BALANCE_SHEET&symbol=IBM&apikey=TDHPCWL40AZFBJ82'\n",
    "url_income_statement = 'https://www.alphavantage.co/query?function=INCOME_STATEMENT&symbol=IBM&apikey=TDHPCWL40AZFBJ82'\n",
    "\n",
    "r_earning = requests.get(url_earning)\n",
    "r_balance_sheet = requests.get(url_balance_sheet)\n",
    "r_income_statement = requests.get(url_income_statement)\n",
    "\n",
    "\n",
    "data_earning = r_earning.json()\n",
    "data_balance_sheet = r_balance_sheet.json()\n",
    "data_income_statement = r_income_statement.json()\n",
    "\n",
    "\n",
    "\n"
   ]
  },
  {
   "cell_type": "code",
   "execution_count": 76,
   "metadata": {},
   "outputs": [
    {
     "name": "stdout",
     "output_type": "stream",
     "text": [
      "['fiscalDateEnding', 'reportedEPS', 'totalAssets', 'totalLiabilities', 'grossProfit', 'totalRevenue', 'netIncome']\n",
      "[['2022-09-30', '1.81', '125850000000', '105703000000', '7430000000', '14107000000', '-3196000000'], ['2022-06-30', '2.31', '127503000000', '108026000000', '8290000000', '15535000000', '1392000000'], ['2022-03-31', '1.4', '133275000000', '114162000000', '7335000000', '14197000000', '733000000'], ['2021-12-31', '3.35', '132001000000', '113005000000', '9501000000', '16694000000', '2333000000'], ['2021-09-30', '2.52', '144214000000', '121858000000', '7106000000', '13251000000', '1130000000'], ['2021-06-30', '2.33', '146814000000', '124747000000', '7852000000', '14218000000', '1325000000'], ['2021-03-31', '1.77', '148629000000', '127116000000', '7027000000', '13187000000', '955000000'], ['2020-12-31', '2.07', '155971000000', '135244000000', '5813000000', '1926000000', '1356000000'], ['2020-09-30', '2.58', '154128000000', '132794000000', '8430000000', '17560000000', '1698000000'], ['2020-06-30', '2.18', '154200000000', '133512000000', '8700000000', '18123000000', '1361000000'], ['2020-03-31', '1.84', '153403000000', '133275000000', '7922000000', '17571000000', '1175000000'], ['2019-12-31', '4.71', '152186000000', '131202000000', '6145000000', '2344000000', '3670000000'], ['2019-09-30', '2.68', '149620000000', '131524000000', '8336000000', '18028000000', '1672000000'], ['2019-06-30', '3.17', '154652000000', '136876000000', '9010000000', '19161000000', '2498000000'], ['2019-03-31', '2.25', '130926000000', '114320000000', '8043000000', '18182000000', '1591000000'], ['2018-12-31', '4.87', '123382000000', '106452000000', '10687000000', '21761000000', '1951000000'], ['2018-09-30', '3.42', '121990000000', '102071000000', '8803000000', '18756000000', '2694000000'], ['2018-06-30', '3.08', '121622000000', '102974000000', '9199000000', '20003000000', '2404000000'], ['2018-03-31', '2.45', '125285000000', '106995000000', '8247000000', '19072000000', '1679000000'], ['2017-12-31', '5.18', '125356000000', '107631000000', '11049000000', '22542000000', '-1054000000']]\n"
     ]
    }
   ],
   "source": [
    "\n",
    "df_earning = pd.DataFrame(data_earning[\"quarterlyEarnings\"])\n",
    "df_earning = df_earning[['fiscalDateEnding','reportedEPS']].drop(index=0).reset_index(drop=True).head(20)\n",
    "\n",
    "df_balance = pd.DataFrame(data_balance_sheet[\"quarterlyReports\"])\n",
    "df_balance = df_balance[['fiscalDateEnding','totalAssets','totalLiabilities']]\n",
    "\n",
    "df_income_statement = pd.DataFrame(data_income_statement[\"quarterlyReports\"])\n",
    "df_income_statement = df_income_statement[['fiscalDateEnding','grossProfit','totalRevenue','netIncome']]\n",
    "\n",
    "df = df_earning.join(df_balance.set_index('fiscalDateEnding'), on='fiscalDateEnding').join(df_income_statement.set_index('fiscalDateEnding'), on='fiscalDateEnding')\n",
    "row_lists = df.apply(lambda row: row.tolist(), axis=1).tolist()\n",
    "column_names = list(df.columns.values)\n",
    "print(column_names)\n",
    "print(row_lists)"
   ]
  }
 ],
 "metadata": {
  "kernelspec": {
   "display_name": "Python 3",
   "language": "python",
   "name": "python3"
  },
  "language_info": {
   "codemirror_mode": {
    "name": "ipython",
    "version": 3
   },
   "file_extension": ".py",
   "mimetype": "text/x-python",
   "name": "python",
   "nbconvert_exporter": "python",
   "pygments_lexer": "ipython3",
   "version": "3.9.13"
  },
  "orig_nbformat": 4,
  "vscode": {
   "interpreter": {
    "hash": "cd05a3f72561a4cd3675d1e6dd09f9984a3a823058cba838b94e660222799a0f"
   }
  }
 },
 "nbformat": 4,
 "nbformat_minor": 2
}
