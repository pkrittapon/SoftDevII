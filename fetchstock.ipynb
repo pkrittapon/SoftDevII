{
 "cells": [
  {
   "cell_type": "code",
   "execution_count": null,
   "metadata": {},
   "outputs": [],
   "source": [
    "def get_stock_and_crypto_data(name,start):\n",
    "    import yfinance as yf\n",
    "    from datetime import datetime\n",
    "    start = datetime.strptime(start, '%Y-%m-%d')# convert string to datetime obj\n",
    "    # end = datetime.strptime(end, '%Y-%m-%d')# convert string to datetime obj\n",
    "\n",
    "    data = yf.download(tickers=name, start=start, interval = '60m') #get data\n",
    "    data = data.loc[data[\"Volume\"] != 0 ].drop([\"Adj Close\"],axis = 1)# ไม่เอาค่า volume = 0\n",
    "    data[\"Date\"] = data.index.strftime('%Y-%m-%d %X') # convert pandas timestamp to string \n",
    "    return data\n",
    "    return data.values.tolist() #return value in type list"
   ]
  },
  {
   "cell_type": "code",
   "execution_count": null,
   "metadata": {},
   "outputs": [],
   "source": [
    "get_stock_and_crypto_data(\"BTC-USD\",\"2021-03-01\")"
   ]
  },
  {
   "cell_type": "code",
   "execution_count": null,
   "metadata": {},
   "outputs": [],
   "source": [
    "import yfinance as yf\n",
    "from datetime import datetime\n",
    "start = datetime.strptime(\"2023-01-01\", '%Y-%m-%d')# convert string to datetime obj\n",
    "# end = datetime.strptime(end, '%Y-%m-%d')# convert string to datetime obj\n",
    "\n",
    "data = yf.Ticker(\"aapl\") #get data\n",
    "\n",
    "\n",
    "# data = data.loc[data[\"Volume\"] != 0 ].drop([\"Adj Close\"],axis = 1)# ไม่เอาค่า volume = 0\n",
    "# data[\"Date\"] = data.index.strftime('%Y-%m-%d %X') # convert pandas timestamp to string\n",
    "# print(data.values.tolist()) #return value in type list\n"
   ]
  },
  {
   "cell_type": "code",
   "execution_count": null,
   "metadata": {},
   "outputs": [],
   "source": [
    "def insert_stock(id,data,table):\n",
    "    from sqlite3 import connect\n",
    "    conn = connect('stock.db',timeout=10)#connect to database\n",
    "    cursor = conn.cursor()\n",
    "    for i in data:#run sql script(insert)\n",
    "        cursor.execute(f\"INSERT INTO {table} VALUES (null,{id},'{i[5]}',{i[0]},{i[1]},{i[2]},{i[3]},{i[4]})\")\n",
    "    conn.commit()#commit change to db\n",
    "    conn.close()#disconnect"
   ]
  },
  {
   "cell_type": "code",
   "execution_count": null,
   "metadata": {},
   "outputs": [],
   "source": [
    "def get_stock_id(symbol):\n",
    "    from sqlite3 import connect\n",
    "    conn = connect('stock.db',timeout=10)#connect to database\n",
    "    cursor = conn.cursor()\n",
    "    cursor.execute(f\"SELECT stock_id FROM stock WHERE symbol = '{symbol}'\")#run sql script(get data)\n",
    "    data = cursor.fetchall()#get data as list\n",
    "    conn.close()#disconnect\n",
    "    return data[0][0]"
   ]
  },
  {
   "cell_type": "code",
   "execution_count": null,
   "metadata": {},
   "outputs": [],
   "source": [
    "from data.function import Categories\n",
    "continues = 0\n",
    "for i in Categories().get_all_stock():\n",
    "    if continues == 1:\n",
    "        insert_stock(get_stock_id(i),get_stock_and_crypto_data(i+'.bk','2021-01-13'),'price_hours')\n",
    "    elif i == 'THL':\n",
    "        continues = 1"
   ]
  },
  {
   "cell_type": "code",
   "execution_count": null,
   "metadata": {},
   "outputs": [],
   "source": [
    "import pandas as pd\n",
    "\n",
    "data = yf.download(tickers=\"PTT.bk\", period=\"60d\", interval = '30m')\n",
    "data = data.loc[data[\"Volume\"] != 0 ].drop([\"Adj Close\"],axis = 1)\n",
    "new_data_open = data['Open'].resample(\"H\").first()\n",
    "\n",
    "new_data_close = data['Close'].resample(\"H\").last()\n",
    "\n",
    "new_data_high = data['High'].resample(\"H\").max()\n",
    "new_data_low = data['Low'].resample(\"H\").min()\n",
    "\n",
    "new_data_volume = data['Volume'].resample(\"H\").sum()\n",
    "new_data = pd.DataFrame({'Open': new_data_open,\n",
    "                                'High': new_data_high,\n",
    "                                'Low': new_data_low,\n",
    "                                'Close': new_data_close,\n",
    "                                'Volume': new_data_volume}).dropna()\n",
    "\n",
    "\n",
    "new_data[\"Date\"] = new_data.index.strftime('%Y-%m-%d %X') # convert pandas timestamp to string \n",
    "print(new_data) #return value in type list"
   ]
  }
 ],
 "metadata": {
  "kernelspec": {
   "display_name": "Python 3",
   "language": "python",
   "name": "python3"
  },
  "language_info": {
   "codemirror_mode": {
    "name": "ipython",
    "version": 3
   },
   "file_extension": ".py",
   "mimetype": "text/x-python",
   "name": "python",
   "nbconvert_exporter": "python",
   "pygments_lexer": "ipython3",
   "version": "3.9.13"
  },
  "orig_nbformat": 4,
  "vscode": {
   "interpreter": {
    "hash": "cd05a3f72561a4cd3675d1e6dd09f9984a3a823058cba838b94e660222799a0f"
   }
  }
 },
 "nbformat": 4,
 "nbformat_minor": 2
}
