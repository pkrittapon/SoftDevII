{
 "cells": [
  {
   "cell_type": "code",
   "execution_count": 12,
   "metadata": {},
   "outputs": [],
   "source": [
    "import sqlite3\n",
    "import requests\n",
    "from selenium import webdriver\n",
    "from selenium.webdriver.common.keys import Keys\n",
    "import pandas as pd\n",
    "import time"
   ]
  },
  {
   "cell_type": "code",
   "execution_count": 9,
   "metadata": {},
   "outputs": [
    {
     "name": "stderr",
     "output_type": "stream",
     "text": [
      "C:\\Users\\Krittapon\\AppData\\Local\\Temp\\ipykernel_22680\\3966277087.py:11: DeprecationWarning: executable_path has been deprecated, please pass in a Service object\n",
      "  driver = webdriver.Chrome('./chromedriver')\n"
     ]
    },
    {
     "name": "stdout",
     "output_type": "stream",
     "text": [
      "\n",
      "[['2562', '3333.08', '336.75', 'null', 'null', '377.67', '119.20', 'null', 'null', 'null', 'null', 'null'], ['2563', '3421.13', '438.91', 'null', 'null', '388.94', '-68.14', 'null', 'null', 'null', 'null', 'null'], ['2564', '3344.14', '481.99', 'null', 'null', '362.19', '-296.42', 'null', 'null', 'null', 'null', 'null'], ['2565', '3301.67', '412.07', 'null', 'null', '247.83', '2.00', 'null', 'null', 'null', 'null', 'null']]\n"
     ]
    }
   ],
   "source": [
    "import requests\n",
    "from selenium import webdriver\n",
    "from selenium.webdriver.common.keys import Keys\n",
    "import pandas as pd\n",
    "import time\n",
    "#url of the page we want to scrape\n",
    "symbol = \"AIMCG\"\n",
    "url = 'https://www.set.or.th/th/market/product/stock/quote/'+symbol+'/financial-statement/company-highlights'\n",
    "\n",
    "# initiating the webdriver. Parameter includes the path of the webdriver.\n",
    "driver = webdriver.Chrome('./chromedriver') \n",
    "driver.get(url) \n",
    "\n",
    "# this is just to ensure that the page is loaded\n",
    "time.sleep(3) \n",
    "\n",
    "html = driver.page_source\n",
    "\n",
    "data = pd.read_html(html)\n",
    "print()\n",
    "AOT_financial_statement=[]\n",
    "table = data[0]\n",
    "table=table.dropna()\n",
    "column_name = table.columns.tolist()\n",
    "for cols in column_name[1:]:\n",
    "    year = [cols[-4:]]\n",
    "    statement = table[cols].tolist()\n",
    "    if '-' in statement:\n",
    "        for i in range(len(statement)):\n",
    "            if statement[i] == '-':\n",
    "                statement[i] = \"null\"\n",
    "    AOT_financial_statement.append(year+statement)\n",
    "print(AOT_financial_statement)\n",
    "\n",
    "\n",
    "driver.close() # closing the webdriver"
   ]
  }
 ],
 "metadata": {
  "kernelspec": {
   "display_name": "Python 3",
   "language": "python",
   "name": "python3"
  },
  "language_info": {
   "codemirror_mode": {
    "name": "ipython",
    "version": 3
   },
   "file_extension": ".py",
   "mimetype": "text/x-python",
   "name": "python",
   "nbconvert_exporter": "python",
   "pygments_lexer": "ipython3",
   "version": "3.9.13"
  },
  "orig_nbformat": 4,
  "vscode": {
   "interpreter": {
    "hash": "cd05a3f72561a4cd3675d1e6dd09f9984a3a823058cba838b94e660222799a0f"
   }
  }
 },
 "nbformat": 4,
 "nbformat_minor": 2
}
